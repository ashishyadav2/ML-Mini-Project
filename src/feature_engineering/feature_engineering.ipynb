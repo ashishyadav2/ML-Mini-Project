{
 "cells": [
  {
   "cell_type": "code",
   "execution_count": null,
   "metadata": {},
   "outputs": [],
   "source": [
    "# from collections import Counter\n",
    "# all_dicts = {}\n",
    "# arr = ['Make','Fuel Type','Owner']\n",
    "# for col in arr:\n",
    "#   all_dicts[col] = dict(Counter(final_df[col]))"
   ]
  },
  {
   "cell_type": "code",
   "execution_count": null,
   "metadata": {},
   "outputs": [],
   "source": [
    "# final_df['Make'] = final_df['Make'].apply(lambda x: 'Other' if all_dicts['Make'][x]<=50 else x)\n",
    "# final_df['Fuel Type'] = final_df['Fuel Type'].apply(lambda x: 'Other Type' if all_dicts['Fuel Type'][x]<=50 else x)\n",
    "# final_df['Owner'] = final_df['Owner'].apply(lambda x: 'Second +' if all_dicts['Owner'][x]<=50 else x)"
   ]
  }
 ],
 "metadata": {
  "language_info": {
   "name": "python"
  },
  "orig_nbformat": 4
 },
 "nbformat": 4,
 "nbformat_minor": 2
}
