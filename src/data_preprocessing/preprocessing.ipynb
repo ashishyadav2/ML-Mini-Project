{
 "cells": [
  {
   "cell_type": "markdown",
   "metadata": {},
   "source": [
    "# Preprocessing"
   ]
  },
  {
   "cell_type": "markdown",
   "metadata": {},
   "source": [
    "## Importing Libraries"
   ]
  },
  {
   "cell_type": "code",
   "execution_count": 1,
   "metadata": {},
   "outputs": [],
   "source": [
    "import numpy as np\n",
    "import matplotlib.pyplot as plt\n",
    "import seaborn as sns\n",
    "import pandas as pd\n",
    "import pickle"
   ]
  },
  {
   "cell_type": "markdown",
   "metadata": {},
   "source": [
    "## Loading Dataset"
   ]
  },
  {
   "cell_type": "code",
   "execution_count": 2,
   "metadata": {},
   "outputs": [],
   "source": [
    "df = pd.read_csv('G:\\Ashish Yadav\\Backup Google Drive\\Documents-Lecture\\Github\\ML-Mini-Project\\data\\\\raw\\car_dataset.csv')"
   ]
  },
  {
   "cell_type": "markdown",
   "metadata": {},
   "source": [
    "## Data Exploration"
   ]
  },
  {
   "cell_type": "code",
   "execution_count": 3,
   "metadata": {},
   "outputs": [
    {
     "data": {
      "text/html": [
       "<div>\n",
       "<style scoped>\n",
       "    .dataframe tbody tr th:only-of-type {\n",
       "        vertical-align: middle;\n",
       "    }\n",
       "\n",
       "    .dataframe tbody tr th {\n",
       "        vertical-align: top;\n",
       "    }\n",
       "\n",
       "    .dataframe thead th {\n",
       "        text-align: right;\n",
       "    }\n",
       "</style>\n",
       "<table border=\"1\" class=\"dataframe\">\n",
       "  <thead>\n",
       "    <tr style=\"text-align: right;\">\n",
       "      <th></th>\n",
       "      <th>Make</th>\n",
       "      <th>Model</th>\n",
       "      <th>Price</th>\n",
       "      <th>Year</th>\n",
       "      <th>Kilometer</th>\n",
       "      <th>Fuel Type</th>\n",
       "      <th>Transmission</th>\n",
       "      <th>Location</th>\n",
       "      <th>Color</th>\n",
       "      <th>Owner</th>\n",
       "      <th>Seller Type</th>\n",
       "      <th>Engine</th>\n",
       "      <th>Max Power</th>\n",
       "      <th>Max Torque</th>\n",
       "      <th>Drivetrain</th>\n",
       "      <th>Length</th>\n",
       "      <th>Width</th>\n",
       "      <th>Height</th>\n",
       "      <th>Seating Capacity</th>\n",
       "      <th>Fuel Tank Capacity</th>\n",
       "    </tr>\n",
       "  </thead>\n",
       "  <tbody>\n",
       "    <tr>\n",
       "      <th>0</th>\n",
       "      <td>Honda</td>\n",
       "      <td>Amaze 1.2 VX i-VTEC</td>\n",
       "      <td>505000</td>\n",
       "      <td>2017</td>\n",
       "      <td>87150</td>\n",
       "      <td>Petrol</td>\n",
       "      <td>Manual</td>\n",
       "      <td>Pune</td>\n",
       "      <td>Grey</td>\n",
       "      <td>First</td>\n",
       "      <td>Corporate</td>\n",
       "      <td>1198 cc</td>\n",
       "      <td>87 bhp @ 6000 rpm</td>\n",
       "      <td>109 Nm @ 4500 rpm</td>\n",
       "      <td>FWD</td>\n",
       "      <td>3990.0</td>\n",
       "      <td>1680.0</td>\n",
       "      <td>1505.0</td>\n",
       "      <td>5.0</td>\n",
       "      <td>35.0</td>\n",
       "    </tr>\n",
       "    <tr>\n",
       "      <th>1</th>\n",
       "      <td>Maruti Suzuki</td>\n",
       "      <td>Swift DZire VDI</td>\n",
       "      <td>450000</td>\n",
       "      <td>2014</td>\n",
       "      <td>75000</td>\n",
       "      <td>Diesel</td>\n",
       "      <td>Manual</td>\n",
       "      <td>Ludhiana</td>\n",
       "      <td>White</td>\n",
       "      <td>Second</td>\n",
       "      <td>Individual</td>\n",
       "      <td>1248 cc</td>\n",
       "      <td>74 bhp @ 4000 rpm</td>\n",
       "      <td>190 Nm @ 2000 rpm</td>\n",
       "      <td>FWD</td>\n",
       "      <td>3995.0</td>\n",
       "      <td>1695.0</td>\n",
       "      <td>1555.0</td>\n",
       "      <td>5.0</td>\n",
       "      <td>42.0</td>\n",
       "    </tr>\n",
       "    <tr>\n",
       "      <th>2</th>\n",
       "      <td>Hyundai</td>\n",
       "      <td>i10 Magna 1.2 Kappa2</td>\n",
       "      <td>220000</td>\n",
       "      <td>2011</td>\n",
       "      <td>67000</td>\n",
       "      <td>Petrol</td>\n",
       "      <td>Manual</td>\n",
       "      <td>Lucknow</td>\n",
       "      <td>Maroon</td>\n",
       "      <td>First</td>\n",
       "      <td>Individual</td>\n",
       "      <td>1197 cc</td>\n",
       "      <td>79 bhp @ 6000 rpm</td>\n",
       "      <td>112.7619 Nm @ 4000 rpm</td>\n",
       "      <td>FWD</td>\n",
       "      <td>3585.0</td>\n",
       "      <td>1595.0</td>\n",
       "      <td>1550.0</td>\n",
       "      <td>5.0</td>\n",
       "      <td>35.0</td>\n",
       "    </tr>\n",
       "    <tr>\n",
       "      <th>3</th>\n",
       "      <td>Toyota</td>\n",
       "      <td>Glanza G</td>\n",
       "      <td>799000</td>\n",
       "      <td>2019</td>\n",
       "      <td>37500</td>\n",
       "      <td>Petrol</td>\n",
       "      <td>Manual</td>\n",
       "      <td>Mangalore</td>\n",
       "      <td>Red</td>\n",
       "      <td>First</td>\n",
       "      <td>Individual</td>\n",
       "      <td>1197 cc</td>\n",
       "      <td>82 bhp @ 6000 rpm</td>\n",
       "      <td>113 Nm @ 4200 rpm</td>\n",
       "      <td>FWD</td>\n",
       "      <td>3995.0</td>\n",
       "      <td>1745.0</td>\n",
       "      <td>1510.0</td>\n",
       "      <td>5.0</td>\n",
       "      <td>37.0</td>\n",
       "    </tr>\n",
       "    <tr>\n",
       "      <th>4</th>\n",
       "      <td>Toyota</td>\n",
       "      <td>Innova 2.4 VX 7 STR [2016-2020]</td>\n",
       "      <td>1950000</td>\n",
       "      <td>2018</td>\n",
       "      <td>69000</td>\n",
       "      <td>Diesel</td>\n",
       "      <td>Manual</td>\n",
       "      <td>Mumbai</td>\n",
       "      <td>Grey</td>\n",
       "      <td>First</td>\n",
       "      <td>Individual</td>\n",
       "      <td>2393 cc</td>\n",
       "      <td>148 bhp @ 3400 rpm</td>\n",
       "      <td>343 Nm @ 1400 rpm</td>\n",
       "      <td>RWD</td>\n",
       "      <td>4735.0</td>\n",
       "      <td>1830.0</td>\n",
       "      <td>1795.0</td>\n",
       "      <td>7.0</td>\n",
       "      <td>55.0</td>\n",
       "    </tr>\n",
       "  </tbody>\n",
       "</table>\n",
       "</div>"
      ],
      "text/plain": [
       "            Make                            Model    Price  Year  Kilometer  \\\n",
       "0          Honda              Amaze 1.2 VX i-VTEC   505000  2017      87150   \n",
       "1  Maruti Suzuki                  Swift DZire VDI   450000  2014      75000   \n",
       "2        Hyundai             i10 Magna 1.2 Kappa2   220000  2011      67000   \n",
       "3         Toyota                         Glanza G   799000  2019      37500   \n",
       "4         Toyota  Innova 2.4 VX 7 STR [2016-2020]  1950000  2018      69000   \n",
       "\n",
       "  Fuel Type Transmission   Location   Color   Owner Seller Type   Engine  \\\n",
       "0    Petrol       Manual       Pune    Grey   First   Corporate  1198 cc   \n",
       "1    Diesel       Manual   Ludhiana   White  Second  Individual  1248 cc   \n",
       "2    Petrol       Manual    Lucknow  Maroon   First  Individual  1197 cc   \n",
       "3    Petrol       Manual  Mangalore     Red   First  Individual  1197 cc   \n",
       "4    Diesel       Manual     Mumbai    Grey   First  Individual  2393 cc   \n",
       "\n",
       "            Max Power              Max Torque Drivetrain  Length   Width  \\\n",
       "0   87 bhp @ 6000 rpm       109 Nm @ 4500 rpm        FWD  3990.0  1680.0   \n",
       "1   74 bhp @ 4000 rpm       190 Nm @ 2000 rpm        FWD  3995.0  1695.0   \n",
       "2   79 bhp @ 6000 rpm  112.7619 Nm @ 4000 rpm        FWD  3585.0  1595.0   \n",
       "3   82 bhp @ 6000 rpm       113 Nm @ 4200 rpm        FWD  3995.0  1745.0   \n",
       "4  148 bhp @ 3400 rpm       343 Nm @ 1400 rpm        RWD  4735.0  1830.0   \n",
       "\n",
       "   Height  Seating Capacity  Fuel Tank Capacity  \n",
       "0  1505.0               5.0                35.0  \n",
       "1  1555.0               5.0                42.0  \n",
       "2  1550.0               5.0                35.0  \n",
       "3  1510.0               5.0                37.0  \n",
       "4  1795.0               7.0                55.0  "
      ]
     },
     "execution_count": 3,
     "metadata": {},
     "output_type": "execute_result"
    }
   ],
   "source": [
    "df.head()"
   ]
  },
  {
   "cell_type": "code",
   "execution_count": 4,
   "metadata": {},
   "outputs": [
    {
     "data": {
      "text/plain": [
       "1050"
      ]
     },
     "execution_count": 4,
     "metadata": {},
     "output_type": "execute_result"
    }
   ],
   "source": [
    "df['Model'].nunique()"
   ]
  },
  {
   "cell_type": "code",
   "execution_count": 5,
   "metadata": {},
   "outputs": [
    {
     "name": "stdout",
     "output_type": "stream",
     "text": [
      "<class 'pandas.core.frame.DataFrame'>\n",
      "RangeIndex: 2059 entries, 0 to 2058\n",
      "Data columns (total 20 columns):\n",
      " #   Column              Non-Null Count  Dtype  \n",
      "---  ------              --------------  -----  \n",
      " 0   Make                2059 non-null   object \n",
      " 1   Model               2059 non-null   object \n",
      " 2   Price               2059 non-null   int64  \n",
      " 3   Year                2059 non-null   int64  \n",
      " 4   Kilometer           2059 non-null   int64  \n",
      " 5   Fuel Type           2059 non-null   object \n",
      " 6   Transmission        2059 non-null   object \n",
      " 7   Location            2059 non-null   object \n",
      " 8   Color               2059 non-null   object \n",
      " 9   Owner               2059 non-null   object \n",
      " 10  Seller Type         2059 non-null   object \n",
      " 11  Engine              1979 non-null   object \n",
      " 12  Max Power           1979 non-null   object \n",
      " 13  Max Torque          1979 non-null   object \n",
      " 14  Drivetrain          1923 non-null   object \n",
      " 15  Length              1995 non-null   float64\n",
      " 16  Width               1995 non-null   float64\n",
      " 17  Height              1995 non-null   float64\n",
      " 18  Seating Capacity    1995 non-null   float64\n",
      " 19  Fuel Tank Capacity  1946 non-null   float64\n",
      "dtypes: float64(5), int64(3), object(12)\n",
      "memory usage: 321.8+ KB\n"
     ]
    }
   ],
   "source": [
    "df.info()"
   ]
  },
  {
   "cell_type": "code",
   "execution_count": 6,
   "metadata": {},
   "outputs": [
    {
     "data": {
      "text/html": [
       "<div>\n",
       "<style scoped>\n",
       "    .dataframe tbody tr th:only-of-type {\n",
       "        vertical-align: middle;\n",
       "    }\n",
       "\n",
       "    .dataframe tbody tr th {\n",
       "        vertical-align: top;\n",
       "    }\n",
       "\n",
       "    .dataframe thead th {\n",
       "        text-align: right;\n",
       "    }\n",
       "</style>\n",
       "<table border=\"1\" class=\"dataframe\">\n",
       "  <thead>\n",
       "    <tr style=\"text-align: right;\">\n",
       "      <th></th>\n",
       "      <th>Price</th>\n",
       "      <th>Year</th>\n",
       "      <th>Kilometer</th>\n",
       "      <th>Length</th>\n",
       "      <th>Width</th>\n",
       "      <th>Height</th>\n",
       "      <th>Seating Capacity</th>\n",
       "      <th>Fuel Tank Capacity</th>\n",
       "    </tr>\n",
       "  </thead>\n",
       "  <tbody>\n",
       "    <tr>\n",
       "      <th>count</th>\n",
       "      <td>2.059000e+03</td>\n",
       "      <td>2059.000000</td>\n",
       "      <td>2.059000e+03</td>\n",
       "      <td>1995.000000</td>\n",
       "      <td>1995.000000</td>\n",
       "      <td>1995.000000</td>\n",
       "      <td>1995.000000</td>\n",
       "      <td>1946.000000</td>\n",
       "    </tr>\n",
       "    <tr>\n",
       "      <th>mean</th>\n",
       "      <td>1.702992e+06</td>\n",
       "      <td>2016.425449</td>\n",
       "      <td>5.422471e+04</td>\n",
       "      <td>4280.860652</td>\n",
       "      <td>1767.991980</td>\n",
       "      <td>1591.735338</td>\n",
       "      <td>5.306266</td>\n",
       "      <td>52.002210</td>\n",
       "    </tr>\n",
       "    <tr>\n",
       "      <th>std</th>\n",
       "      <td>2.419881e+06</td>\n",
       "      <td>3.363564</td>\n",
       "      <td>5.736172e+04</td>\n",
       "      <td>442.458507</td>\n",
       "      <td>135.265825</td>\n",
       "      <td>136.073956</td>\n",
       "      <td>0.822170</td>\n",
       "      <td>15.110198</td>\n",
       "    </tr>\n",
       "    <tr>\n",
       "      <th>min</th>\n",
       "      <td>4.900000e+04</td>\n",
       "      <td>1988.000000</td>\n",
       "      <td>0.000000e+00</td>\n",
       "      <td>3099.000000</td>\n",
       "      <td>1475.000000</td>\n",
       "      <td>1165.000000</td>\n",
       "      <td>2.000000</td>\n",
       "      <td>15.000000</td>\n",
       "    </tr>\n",
       "    <tr>\n",
       "      <th>25%</th>\n",
       "      <td>4.849990e+05</td>\n",
       "      <td>2014.000000</td>\n",
       "      <td>2.900000e+04</td>\n",
       "      <td>3985.000000</td>\n",
       "      <td>1695.000000</td>\n",
       "      <td>1485.000000</td>\n",
       "      <td>5.000000</td>\n",
       "      <td>41.250000</td>\n",
       "    </tr>\n",
       "    <tr>\n",
       "      <th>50%</th>\n",
       "      <td>8.250000e+05</td>\n",
       "      <td>2017.000000</td>\n",
       "      <td>5.000000e+04</td>\n",
       "      <td>4370.000000</td>\n",
       "      <td>1770.000000</td>\n",
       "      <td>1545.000000</td>\n",
       "      <td>5.000000</td>\n",
       "      <td>50.000000</td>\n",
       "    </tr>\n",
       "    <tr>\n",
       "      <th>75%</th>\n",
       "      <td>1.925000e+06</td>\n",
       "      <td>2019.000000</td>\n",
       "      <td>7.200000e+04</td>\n",
       "      <td>4629.000000</td>\n",
       "      <td>1831.500000</td>\n",
       "      <td>1675.000000</td>\n",
       "      <td>5.000000</td>\n",
       "      <td>60.000000</td>\n",
       "    </tr>\n",
       "    <tr>\n",
       "      <th>max</th>\n",
       "      <td>3.500000e+07</td>\n",
       "      <td>2022.000000</td>\n",
       "      <td>2.000000e+06</td>\n",
       "      <td>5569.000000</td>\n",
       "      <td>2220.000000</td>\n",
       "      <td>1995.000000</td>\n",
       "      <td>8.000000</td>\n",
       "      <td>105.000000</td>\n",
       "    </tr>\n",
       "  </tbody>\n",
       "</table>\n",
       "</div>"
      ],
      "text/plain": [
       "              Price         Year     Kilometer       Length        Width  \\\n",
       "count  2.059000e+03  2059.000000  2.059000e+03  1995.000000  1995.000000   \n",
       "mean   1.702992e+06  2016.425449  5.422471e+04  4280.860652  1767.991980   \n",
       "std    2.419881e+06     3.363564  5.736172e+04   442.458507   135.265825   \n",
       "min    4.900000e+04  1988.000000  0.000000e+00  3099.000000  1475.000000   \n",
       "25%    4.849990e+05  2014.000000  2.900000e+04  3985.000000  1695.000000   \n",
       "50%    8.250000e+05  2017.000000  5.000000e+04  4370.000000  1770.000000   \n",
       "75%    1.925000e+06  2019.000000  7.200000e+04  4629.000000  1831.500000   \n",
       "max    3.500000e+07  2022.000000  2.000000e+06  5569.000000  2220.000000   \n",
       "\n",
       "            Height  Seating Capacity  Fuel Tank Capacity  \n",
       "count  1995.000000       1995.000000         1946.000000  \n",
       "mean   1591.735338          5.306266           52.002210  \n",
       "std     136.073956          0.822170           15.110198  \n",
       "min    1165.000000          2.000000           15.000000  \n",
       "25%    1485.000000          5.000000           41.250000  \n",
       "50%    1545.000000          5.000000           50.000000  \n",
       "75%    1675.000000          5.000000           60.000000  \n",
       "max    1995.000000          8.000000          105.000000  "
      ]
     },
     "execution_count": 6,
     "metadata": {},
     "output_type": "execute_result"
    }
   ],
   "source": [
    "df.describe()"
   ]
  },
  {
   "cell_type": "code",
   "execution_count": 7,
   "metadata": {},
   "outputs": [
    {
     "data": {
      "text/plain": [
       "Index(['Make', 'Model', 'Price', 'Year', 'Kilometer', 'Fuel Type',\n",
       "       'Transmission', 'Location', 'Color', 'Owner', 'Seller Type', 'Engine',\n",
       "       'Max Power', 'Max Torque', 'Drivetrain', 'Length', 'Width', 'Height',\n",
       "       'Seating Capacity', 'Fuel Tank Capacity'],\n",
       "      dtype='object')"
      ]
     },
     "execution_count": 7,
     "metadata": {},
     "output_type": "execute_result"
    }
   ],
   "source": [
    "df.columns"
   ]
  },
  {
   "cell_type": "code",
   "execution_count": 8,
   "metadata": {},
   "outputs": [
    {
     "data": {
      "text/plain": [
       "(2059, 20)"
      ]
     },
     "execution_count": 8,
     "metadata": {},
     "output_type": "execute_result"
    }
   ],
   "source": [
    "df.shape"
   ]
  },
  {
   "cell_type": "code",
   "execution_count": 9,
   "metadata": {},
   "outputs": [],
   "source": [
    "# df.corr()"
   ]
  },
  {
   "cell_type": "code",
   "execution_count": 10,
   "metadata": {},
   "outputs": [
    {
     "data": {
      "text/plain": [
       "Make                    0\n",
       "Model                   0\n",
       "Price                   0\n",
       "Year                    0\n",
       "Kilometer               0\n",
       "Fuel Type               0\n",
       "Transmission            0\n",
       "Location                0\n",
       "Color                   0\n",
       "Owner                   0\n",
       "Seller Type             0\n",
       "Engine                 80\n",
       "Max Power              80\n",
       "Max Torque             80\n",
       "Drivetrain            136\n",
       "Length                 64\n",
       "Width                  64\n",
       "Height                 64\n",
       "Seating Capacity       64\n",
       "Fuel Tank Capacity    113\n",
       "dtype: int64"
      ]
     },
     "execution_count": 10,
     "metadata": {},
     "output_type": "execute_result"
    }
   ],
   "source": [
    "df.isna().sum()"
   ]
  },
  {
   "cell_type": "markdown",
   "metadata": {},
   "source": [
    "## Data Preprocessing"
   ]
  },
  {
   "cell_type": "code",
   "execution_count": 11,
   "metadata": {},
   "outputs": [],
   "source": [
    "def fix_engine(item):\n",
    "  if pd.isnull(item):\n",
    "    return None\n",
    "  return int(item.split(\" \")[0])\n",
    "df['Engine'] = df['Engine'].apply(fix_engine)"
   ]
  },
  {
   "cell_type": "code",
   "execution_count": 12,
   "metadata": {},
   "outputs": [],
   "source": [
    "engine_mean = df['Engine'].mean()\n",
    "df['Engine'] = df['Engine'].fillna(engine_mean)"
   ]
  },
  {
   "cell_type": "code",
   "execution_count": 13,
   "metadata": {},
   "outputs": [],
   "source": [
    "drivetrain_mode = df['Drivetrain'].mode()\n",
    "def fix_drivetrain(item):\n",
    "  if pd.isnull(item):\n",
    "    return drivetrain_mode\n",
    "  return item"
   ]
  },
  {
   "cell_type": "code",
   "execution_count": 14,
   "metadata": {},
   "outputs": [],
   "source": [
    "df['Drivetrain'] = df['Drivetrain'].apply(fix_drivetrain)"
   ]
  },
  {
   "cell_type": "code",
   "execution_count": 15,
   "metadata": {},
   "outputs": [],
   "source": [
    "length_mean = df['Length'].mean()\n",
    "df['Length'] = df['Length'].fillna(length_mean)"
   ]
  },
  {
   "cell_type": "code",
   "execution_count": 16,
   "metadata": {},
   "outputs": [],
   "source": [
    "fuel_tank_mean = df['Fuel Tank Capacity'].mean()\n",
    "df['Fuel Tank Capacity'] = df['Fuel Tank Capacity'].fillna(round(fuel_tank_mean))"
   ]
  },
  {
   "cell_type": "code",
   "execution_count": 17,
   "metadata": {},
   "outputs": [],
   "source": [
    "seating_capacity_mean = df['Seating Capacity'].mean()\n",
    "df['Seating Capacity'] = df['Seating Capacity'].fillna(round(seating_capacity_mean))"
   ]
  },
  {
   "cell_type": "code",
   "execution_count": 18,
   "metadata": {},
   "outputs": [],
   "source": [
    "def remove_outliers(df,cols):\n",
    "  df_cleaned = df.copy()\n",
    "  for col in cols:\n",
    "    q1 = df_cleaned[col].quantile(0.25)\n",
    "    q3 = df_cleaned[col].quantile(0.75)\n",
    "    iqr = q3-q1\n",
    "    low = q1 - 1.5*iqr\n",
    "    high = q3 + 1.5*iqr\n",
    "    df_cleaned = df_cleaned[(df_cleaned[col]>=low) & (df_cleaned[col]<=high)]\n",
    "  return df_cleaned\n"
   ]
  },
  {
   "cell_type": "code",
   "execution_count": 19,
   "metadata": {},
   "outputs": [],
   "source": [
    "cleaned_df = remove_outliers(df,['Kilometer','Engine','Length','Fuel Tank Capacity'])"
   ]
  },
  {
   "cell_type": "code",
   "execution_count": 20,
   "metadata": {},
   "outputs": [
    {
     "data": {
      "text/html": [
       "<div>\n",
       "<style scoped>\n",
       "    .dataframe tbody tr th:only-of-type {\n",
       "        vertical-align: middle;\n",
       "    }\n",
       "\n",
       "    .dataframe tbody tr th {\n",
       "        vertical-align: top;\n",
       "    }\n",
       "\n",
       "    .dataframe thead th {\n",
       "        text-align: right;\n",
       "    }\n",
       "</style>\n",
       "<table border=\"1\" class=\"dataframe\">\n",
       "  <thead>\n",
       "    <tr style=\"text-align: right;\">\n",
       "      <th></th>\n",
       "      <th>Price</th>\n",
       "      <th>Year</th>\n",
       "      <th>Kilometer</th>\n",
       "      <th>Engine</th>\n",
       "      <th>Length</th>\n",
       "      <th>Width</th>\n",
       "      <th>Height</th>\n",
       "      <th>Seating Capacity</th>\n",
       "      <th>Fuel Tank Capacity</th>\n",
       "    </tr>\n",
       "  </thead>\n",
       "  <tbody>\n",
       "    <tr>\n",
       "      <th>count</th>\n",
       "      <td>1.954000e+03</td>\n",
       "      <td>1954.000000</td>\n",
       "      <td>1954.000000</td>\n",
       "      <td>1954.000000</td>\n",
       "      <td>1954.000000</td>\n",
       "      <td>1891.000000</td>\n",
       "      <td>1891.000000</td>\n",
       "      <td>1954.000000</td>\n",
       "      <td>1954.000000</td>\n",
       "    </tr>\n",
       "    <tr>\n",
       "      <th>mean</th>\n",
       "      <td>1.510984e+06</td>\n",
       "      <td>2016.479017</td>\n",
       "      <td>50931.322927</td>\n",
       "      <td>1629.199318</td>\n",
       "      <td>4251.417206</td>\n",
       "      <td>1757.974088</td>\n",
       "      <td>1585.858276</td>\n",
       "      <td>5.276356</td>\n",
       "      <td>50.491812</td>\n",
       "    </tr>\n",
       "    <tr>\n",
       "      <th>std</th>\n",
       "      <td>1.807846e+06</td>\n",
       "      <td>3.349396</td>\n",
       "      <td>28175.666835</td>\n",
       "      <td>528.195464</td>\n",
       "      <td>420.460672</td>\n",
       "      <td>127.396975</td>\n",
       "      <td>131.160385</td>\n",
       "      <td>0.778213</td>\n",
       "      <td>12.870875</td>\n",
       "    </tr>\n",
       "    <tr>\n",
       "      <th>min</th>\n",
       "      <td>4.900000e+04</td>\n",
       "      <td>1988.000000</td>\n",
       "      <td>0.000000</td>\n",
       "      <td>624.000000</td>\n",
       "      <td>3099.000000</td>\n",
       "      <td>1475.000000</td>\n",
       "      <td>1281.000000</td>\n",
       "      <td>2.000000</td>\n",
       "      <td>15.000000</td>\n",
       "    </tr>\n",
       "    <tr>\n",
       "      <th>25%</th>\n",
       "      <td>4.750000e+05</td>\n",
       "      <td>2014.000000</td>\n",
       "      <td>29000.000000</td>\n",
       "      <td>1197.000000</td>\n",
       "      <td>3985.000000</td>\n",
       "      <td>1695.000000</td>\n",
       "      <td>1485.000000</td>\n",
       "      <td>5.000000</td>\n",
       "      <td>42.000000</td>\n",
       "    </tr>\n",
       "    <tr>\n",
       "      <th>50%</th>\n",
       "      <td>7.950000e+05</td>\n",
       "      <td>2017.000000</td>\n",
       "      <td>49816.500000</td>\n",
       "      <td>1497.000000</td>\n",
       "      <td>4300.000000</td>\n",
       "      <td>1765.000000</td>\n",
       "      <td>1544.000000</td>\n",
       "      <td>5.000000</td>\n",
       "      <td>50.000000</td>\n",
       "    </tr>\n",
       "    <tr>\n",
       "      <th>75%</th>\n",
       "      <td>1.789999e+06</td>\n",
       "      <td>2019.000000</td>\n",
       "      <td>71000.000000</td>\n",
       "      <td>1987.000000</td>\n",
       "      <td>4585.000000</td>\n",
       "      <td>1828.500000</td>\n",
       "      <td>1665.000000</td>\n",
       "      <td>5.000000</td>\n",
       "      <td>60.000000</td>\n",
       "    </tr>\n",
       "    <tr>\n",
       "      <th>max</th>\n",
       "      <td>2.000000e+07</td>\n",
       "      <td>2022.000000</td>\n",
       "      <td>135797.000000</td>\n",
       "      <td>2999.000000</td>\n",
       "      <td>5255.000000</td>\n",
       "      <td>2220.000000</td>\n",
       "      <td>1995.000000</td>\n",
       "      <td>8.000000</td>\n",
       "      <td>85.000000</td>\n",
       "    </tr>\n",
       "  </tbody>\n",
       "</table>\n",
       "</div>"
      ],
      "text/plain": [
       "              Price         Year      Kilometer       Engine       Length  \\\n",
       "count  1.954000e+03  1954.000000    1954.000000  1954.000000  1954.000000   \n",
       "mean   1.510984e+06  2016.479017   50931.322927  1629.199318  4251.417206   \n",
       "std    1.807846e+06     3.349396   28175.666835   528.195464   420.460672   \n",
       "min    4.900000e+04  1988.000000       0.000000   624.000000  3099.000000   \n",
       "25%    4.750000e+05  2014.000000   29000.000000  1197.000000  3985.000000   \n",
       "50%    7.950000e+05  2017.000000   49816.500000  1497.000000  4300.000000   \n",
       "75%    1.789999e+06  2019.000000   71000.000000  1987.000000  4585.000000   \n",
       "max    2.000000e+07  2022.000000  135797.000000  2999.000000  5255.000000   \n",
       "\n",
       "             Width       Height  Seating Capacity  Fuel Tank Capacity  \n",
       "count  1891.000000  1891.000000       1954.000000         1954.000000  \n",
       "mean   1757.974088  1585.858276          5.276356           50.491812  \n",
       "std     127.396975   131.160385          0.778213           12.870875  \n",
       "min    1475.000000  1281.000000          2.000000           15.000000  \n",
       "25%    1695.000000  1485.000000          5.000000           42.000000  \n",
       "50%    1765.000000  1544.000000          5.000000           50.000000  \n",
       "75%    1828.500000  1665.000000          5.000000           60.000000  \n",
       "max    2220.000000  1995.000000          8.000000           85.000000  "
      ]
     },
     "execution_count": 20,
     "metadata": {},
     "output_type": "execute_result"
    }
   ],
   "source": [
    "cleaned_df.describe()"
   ]
  },
  {
   "cell_type": "code",
   "execution_count": 21,
   "metadata": {},
   "outputs": [
    {
     "name": "stdout",
     "output_type": "stream",
     "text": [
      "['Honda' 'Maruti Suzuki' 'Hyundai' 'Toyota' 'Mercedes-Benz' 'BMW' 'Skoda'\n",
      " 'Nissan' 'Renault' 'Tata' 'Volkswagen' 'Ford' 'Audi' 'Mahindra' 'MG'\n",
      " 'Jeep' 'Porsche' 'Kia' 'Land Rover' 'Volvo' 'Maserati' 'Jaguar' 'Isuzu'\n",
      " 'Fiat' 'MINI' 'Mitsubishi' 'Datsun' 'Chevrolet' 'Ssangyong' 'Lexus'] \n",
      "\n",
      "Make\n",
      "Maruti Suzuki    436\n",
      "Hyundai          345\n",
      "Honda            157\n",
      "Mercedes-Benz    128\n",
      "Toyota           121\n",
      "BMW              120\n",
      "Audi             115\n",
      "Mahindra         113\n",
      "Tata              55\n",
      "Volkswagen        50\n",
      "Renault           42\n",
      "Skoda             40\n",
      "Ford              40\n",
      "Land Rover        29\n",
      "Kia               23\n",
      "Jeep              18\n",
      "MG                17\n",
      "Jaguar            17\n",
      "Nissan            16\n",
      "Volvo             16\n",
      "Porsche           13\n",
      "MINI              11\n",
      "Datsun             8\n",
      "Chevrolet          7\n",
      "Lexus              6\n",
      "Mitsubishi         3\n",
      "Ssangyong          3\n",
      "Isuzu              2\n",
      "Fiat               2\n",
      "Maserati           1\n",
      "Name: count, dtype: int64 \n",
      "\n",
      "['Petrol' 'Diesel' 'CNG' 'LPG' 'Electric' 'CNG + CNG' 'Hybrid'\n",
      " 'Petrol + CNG' 'Petrol + LPG'] \n",
      "\n",
      "Fuel Type\n",
      "Diesel          969\n",
      "Petrol          917\n",
      "CNG              50\n",
      "Electric          7\n",
      "LPG               5\n",
      "Hybrid            3\n",
      "CNG + CNG         1\n",
      "Petrol + CNG      1\n",
      "Petrol + LPG      1\n",
      "Name: count, dtype: int64 \n",
      "\n",
      "['Manual' 'Automatic'] \n",
      "\n",
      "Transmission\n",
      "Manual       1108\n",
      "Automatic     846\n",
      "Name: count, dtype: int64 \n",
      "\n",
      "['First' 'Second' 'Third' 'Fourth' 'UnRegistered Car' '4 or More'] \n",
      "\n",
      "Owner\n",
      "First               1545\n",
      "Second               351\n",
      "Third                 33\n",
      "UnRegistered Car      21\n",
      "Fourth                 3\n",
      "4 or More              1\n",
      "Name: count, dtype: int64 \n",
      "\n",
      "[5. 7. 4. 8. 2. 6.] \n",
      "\n",
      "Seating Capacity\n",
      "5.0    1626\n",
      "7.0     236\n",
      "4.0      34\n",
      "8.0      32\n",
      "6.0      21\n",
      "2.0       5\n",
      "Name: count, dtype: int64 \n",
      "\n"
     ]
    }
   ],
   "source": [
    "arr = ['Make','Fuel Type','Transmission','Owner','Seating Capacity']\n",
    "for i in arr:\n",
    "  print(cleaned_df[i].unique(),'\\n')\n",
    "  print(cleaned_df[i].value_counts(),'\\n')"
   ]
  },
  {
   "cell_type": "code",
   "execution_count": 22,
   "metadata": {},
   "outputs": [],
   "source": [
    "final_df =  cleaned_df[['Make','Model','Year','Kilometer','Fuel Type','Transmission','Owner','Engine', 'Length','Seating Capacity', 'Fuel Tank Capacity','Price']]"
   ]
  },
  {
   "cell_type": "code",
   "execution_count": 23,
   "metadata": {},
   "outputs": [],
   "source": [
    "final_df = final_df[final_df['Model'].str.len()>=2]"
   ]
  },
  {
   "cell_type": "code",
   "execution_count": 24,
   "metadata": {},
   "outputs": [
    {
     "data": {
      "text/html": [
       "<div>\n",
       "<style scoped>\n",
       "    .dataframe tbody tr th:only-of-type {\n",
       "        vertical-align: middle;\n",
       "    }\n",
       "\n",
       "    .dataframe tbody tr th {\n",
       "        vertical-align: top;\n",
       "    }\n",
       "\n",
       "    .dataframe thead th {\n",
       "        text-align: right;\n",
       "    }\n",
       "</style>\n",
       "<table border=\"1\" class=\"dataframe\">\n",
       "  <thead>\n",
       "    <tr style=\"text-align: right;\">\n",
       "      <th></th>\n",
       "      <th>Make</th>\n",
       "      <th>Model</th>\n",
       "      <th>Year</th>\n",
       "      <th>Kilometer</th>\n",
       "      <th>Fuel Type</th>\n",
       "      <th>Transmission</th>\n",
       "      <th>Owner</th>\n",
       "      <th>Engine</th>\n",
       "      <th>Length</th>\n",
       "      <th>Seating Capacity</th>\n",
       "      <th>Fuel Tank Capacity</th>\n",
       "      <th>Price</th>\n",
       "    </tr>\n",
       "  </thead>\n",
       "  <tbody>\n",
       "    <tr>\n",
       "      <th>1154</th>\n",
       "      <td>Toyota</td>\n",
       "      <td>Vellfire Hybrid</td>\n",
       "      <td>2022</td>\n",
       "      <td>4000</td>\n",
       "      <td>Hybrid</td>\n",
       "      <td>Automatic</td>\n",
       "      <td>First</td>\n",
       "      <td>2494.000000</td>\n",
       "      <td>4935.000000</td>\n",
       "      <td>7.0</td>\n",
       "      <td>58.0</td>\n",
       "      <td>11500000</td>\n",
       "    </tr>\n",
       "    <tr>\n",
       "      <th>175</th>\n",
       "      <td>BMW</td>\n",
       "      <td>3-Series 320d Luxury Line</td>\n",
       "      <td>2018</td>\n",
       "      <td>68189</td>\n",
       "      <td>Diesel</td>\n",
       "      <td>Automatic</td>\n",
       "      <td>First</td>\n",
       "      <td>1995.000000</td>\n",
       "      <td>4633.000000</td>\n",
       "      <td>5.0</td>\n",
       "      <td>57.0</td>\n",
       "      <td>2775000</td>\n",
       "    </tr>\n",
       "    <tr>\n",
       "      <th>1791</th>\n",
       "      <td>Hyundai</td>\n",
       "      <td>Grand i10 Magna 1.2 Kappa VTVT [2013-2016]</td>\n",
       "      <td>2018</td>\n",
       "      <td>38000</td>\n",
       "      <td>Petrol</td>\n",
       "      <td>Manual</td>\n",
       "      <td>First</td>\n",
       "      <td>1197.000000</td>\n",
       "      <td>3765.000000</td>\n",
       "      <td>5.0</td>\n",
       "      <td>43.0</td>\n",
       "      <td>399000</td>\n",
       "    </tr>\n",
       "    <tr>\n",
       "      <th>611</th>\n",
       "      <td>Mercedes-Benz</td>\n",
       "      <td>GLC 200 Progressive</td>\n",
       "      <td>2022</td>\n",
       "      <td>2000</td>\n",
       "      <td>Petrol</td>\n",
       "      <td>Automatic</td>\n",
       "      <td>First</td>\n",
       "      <td>1991.000000</td>\n",
       "      <td>4658.000000</td>\n",
       "      <td>5.0</td>\n",
       "      <td>66.0</td>\n",
       "      <td>6975000</td>\n",
       "    </tr>\n",
       "    <tr>\n",
       "      <th>1533</th>\n",
       "      <td>Mercedes-Benz</td>\n",
       "      <td>E-Class 200</td>\n",
       "      <td>2022</td>\n",
       "      <td>1102</td>\n",
       "      <td>Petrol</td>\n",
       "      <td>Manual</td>\n",
       "      <td>UnRegistered Car</td>\n",
       "      <td>1692.575543</td>\n",
       "      <td>4280.860652</td>\n",
       "      <td>5.0</td>\n",
       "      <td>52.0</td>\n",
       "      <td>7050000</td>\n",
       "    </tr>\n",
       "  </tbody>\n",
       "</table>\n",
       "</div>"
      ],
      "text/plain": [
       "               Make                                       Model  Year  \\\n",
       "1154         Toyota                             Vellfire Hybrid  2022   \n",
       "175             BMW                   3-Series 320d Luxury Line  2018   \n",
       "1791        Hyundai  Grand i10 Magna 1.2 Kappa VTVT [2013-2016]  2018   \n",
       "611   Mercedes-Benz                         GLC 200 Progressive  2022   \n",
       "1533  Mercedes-Benz                                 E-Class 200  2022   \n",
       "\n",
       "      Kilometer Fuel Type Transmission             Owner       Engine  \\\n",
       "1154       4000    Hybrid    Automatic             First  2494.000000   \n",
       "175       68189    Diesel    Automatic             First  1995.000000   \n",
       "1791      38000    Petrol       Manual             First  1197.000000   \n",
       "611        2000    Petrol    Automatic             First  1991.000000   \n",
       "1533       1102    Petrol       Manual  UnRegistered Car  1692.575543   \n",
       "\n",
       "           Length  Seating Capacity  Fuel Tank Capacity     Price  \n",
       "1154  4935.000000               7.0                58.0  11500000  \n",
       "175   4633.000000               5.0                57.0   2775000  \n",
       "1791  3765.000000               5.0                43.0    399000  \n",
       "611   4658.000000               5.0                66.0   6975000  \n",
       "1533  4280.860652               5.0                52.0   7050000  "
      ]
     },
     "execution_count": 24,
     "metadata": {},
     "output_type": "execute_result"
    }
   ],
   "source": [
    "final_df.sample(5)"
   ]
  },
  {
   "cell_type": "code",
   "execution_count": 25,
   "metadata": {},
   "outputs": [
    {
     "data": {
      "text/plain": [
       "(1954, 12)"
      ]
     },
     "execution_count": 25,
     "metadata": {},
     "output_type": "execute_result"
    }
   ],
   "source": [
    "final_df.shape"
   ]
  },
  {
   "cell_type": "code",
   "execution_count": 26,
   "metadata": {},
   "outputs": [],
   "source": [
    "# from collections import Counter\n",
    "# all_dicts = {}\n",
    "# arr = ['Make','Fuel Type','Owner']\n",
    "# for col in arr:\n",
    "#   all_dicts[col] = dict(Counter(final_df[col]))"
   ]
  },
  {
   "cell_type": "code",
   "execution_count": 27,
   "metadata": {},
   "outputs": [],
   "source": [
    "# final_df['Make'] = final_df['Make'].apply(lambda x: 'Other' if all_dicts['Make'][x]<=50 else x)\n",
    "# final_df['Fuel Type'] = final_df['Fuel Type'].apply(lambda x: 'Other Type' if all_dicts['Fuel Type'][x]<=50 else x)\n",
    "# final_df['Owner'] = final_df['Owner'].apply(lambda x: 'Second +' if all_dicts['Owner'][x]<=50 else x)"
   ]
  },
  {
   "cell_type": "code",
   "execution_count": 28,
   "metadata": {},
   "outputs": [],
   "source": [
    "final_df.to_csv('G:\\Ashish Yadav\\Backup Google Drive\\Documents-Lecture\\Github\\ML-Mini-Project\\data\\processed\\preprocessed.csv',index=False)"
   ]
  },
  {
   "cell_type": "code",
   "execution_count": 29,
   "metadata": {},
   "outputs": [],
   "source": [
    "with open('G:\\Ashish Yadav\\Backup Google Drive\\Documents-Lecture\\Github\\ML-Mini-Project\\config\\dataframe.pkl','wb') as file:\n",
    "    pickle.dump(final_df,file)"
   ]
  },
  {
   "cell_type": "code",
   "execution_count": 30,
   "metadata": {},
   "outputs": [],
   "source": [
    "d = {}\n",
    "make_model_map = zip(final_df['Make'],final_df['Model'])\n",
    "for company,model in make_model_map:\n",
    "    if company in d:\n",
    "        d[company].add(model)\n",
    "    else:\n",
    "        d[company] = set(model)"
   ]
  },
  {
   "cell_type": "code",
   "execution_count": 32,
   "metadata": {},
   "outputs": [],
   "source": [
    "with open('G:\\Ashish Yadav\\Backup Google Drive\\Documents-Lecture\\Github\\ML-Mini-Project\\config\\car_model_mapping.pkl','wb') as fd:\n",
    "    pickle.dump(d,fd)"
   ]
  }
 ],
 "metadata": {
  "kernelspec": {
   "display_name": "Python 3",
   "language": "python",
   "name": "python3"
  },
  "language_info": {
   "codemirror_mode": {
    "name": "ipython",
    "version": 3
   },
   "file_extension": ".py",
   "mimetype": "text/x-python",
   "name": "python",
   "nbconvert_exporter": "python",
   "pygments_lexer": "ipython3",
   "version": "3.11.4"
  },
  "orig_nbformat": 4
 },
 "nbformat": 4,
 "nbformat_minor": 2
}
