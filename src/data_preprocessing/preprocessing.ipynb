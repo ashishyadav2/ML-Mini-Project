{
 "cells": [
  {
   "cell_type": "markdown",
   "metadata": {},
   "source": [
    "# Preprocessing"
   ]
  },
  {
   "cell_type": "markdown",
   "metadata": {},
   "source": [
    "## Importing Libraries"
   ]
  },
  {
   "cell_type": "code",
   "execution_count": 470,
   "metadata": {},
   "outputs": [],
   "source": [
    "import numpy as np\n",
    "import matplotlib.pyplot as plt\n",
    "import seaborn as sns\n",
    "import pandas as pd\n",
    "import pickle"
   ]
  },
  {
   "cell_type": "markdown",
   "metadata": {},
   "source": [
    "## Loading Dataset"
   ]
  },
  {
   "cell_type": "code",
   "execution_count": 471,
   "metadata": {},
   "outputs": [],
   "source": [
    "df = pd.read_csv('G:\\Ashish Yadav\\Backup Google Drive\\Documents-Lecture\\Github\\ML-Mini-Project\\data\\\\raw\\car_dataset.csv')"
   ]
  },
  {
   "cell_type": "markdown",
   "metadata": {},
   "source": [
    "## Data Exploration"
   ]
  },
  {
   "cell_type": "code",
   "execution_count": 472,
   "metadata": {},
   "outputs": [
    {
     "data": {
      "text/html": [
       "<div>\n",
       "<style scoped>\n",
       "    .dataframe tbody tr th:only-of-type {\n",
       "        vertical-align: middle;\n",
       "    }\n",
       "\n",
       "    .dataframe tbody tr th {\n",
       "        vertical-align: top;\n",
       "    }\n",
       "\n",
       "    .dataframe thead th {\n",
       "        text-align: right;\n",
       "    }\n",
       "</style>\n",
       "<table border=\"1\" class=\"dataframe\">\n",
       "  <thead>\n",
       "    <tr style=\"text-align: right;\">\n",
       "      <th></th>\n",
       "      <th>Make</th>\n",
       "      <th>Model</th>\n",
       "      <th>Price</th>\n",
       "      <th>Year</th>\n",
       "      <th>Kilometer</th>\n",
       "      <th>Fuel Type</th>\n",
       "      <th>Transmission</th>\n",
       "      <th>Location</th>\n",
       "      <th>Color</th>\n",
       "      <th>Owner</th>\n",
       "      <th>Seller Type</th>\n",
       "      <th>Engine</th>\n",
       "      <th>Max Power</th>\n",
       "      <th>Max Torque</th>\n",
       "      <th>Drivetrain</th>\n",
       "      <th>Length</th>\n",
       "      <th>Width</th>\n",
       "      <th>Height</th>\n",
       "      <th>Seating Capacity</th>\n",
       "      <th>Fuel Tank Capacity</th>\n",
       "    </tr>\n",
       "  </thead>\n",
       "  <tbody>\n",
       "    <tr>\n",
       "      <th>1255</th>\n",
       "      <td>Hyundai</td>\n",
       "      <td>i10 Magna 1.2 Kappa2</td>\n",
       "      <td>250000</td>\n",
       "      <td>2012</td>\n",
       "      <td>54556</td>\n",
       "      <td>Petrol</td>\n",
       "      <td>Manual</td>\n",
       "      <td>Lucknow</td>\n",
       "      <td>White</td>\n",
       "      <td>First</td>\n",
       "      <td>Individual</td>\n",
       "      <td>1197 cc</td>\n",
       "      <td>79 bhp @ 6000 rpm</td>\n",
       "      <td>112.7619 Nm @ 4000 rpm</td>\n",
       "      <td>FWD</td>\n",
       "      <td>3585.0</td>\n",
       "      <td>1595.0</td>\n",
       "      <td>1550.0</td>\n",
       "      <td>5.0</td>\n",
       "      <td>35.0</td>\n",
       "    </tr>\n",
       "    <tr>\n",
       "      <th>359</th>\n",
       "      <td>Maruti Suzuki</td>\n",
       "      <td>Swift DZire LXi</td>\n",
       "      <td>295000</td>\n",
       "      <td>2010</td>\n",
       "      <td>33000</td>\n",
       "      <td>Petrol</td>\n",
       "      <td>Manual</td>\n",
       "      <td>Mumbai</td>\n",
       "      <td>Grey</td>\n",
       "      <td>First</td>\n",
       "      <td>Individual</td>\n",
       "      <td>1298 cc</td>\n",
       "      <td>87@6000</td>\n",
       "      <td>113@4500</td>\n",
       "      <td>FWD</td>\n",
       "      <td>4160.0</td>\n",
       "      <td>1690.0</td>\n",
       "      <td>1530.0</td>\n",
       "      <td>5.0</td>\n",
       "      <td>43.0</td>\n",
       "    </tr>\n",
       "    <tr>\n",
       "      <th>1360</th>\n",
       "      <td>Toyota</td>\n",
       "      <td>Innova 2.4 ZX 7 STR [2016-2020]</td>\n",
       "      <td>1725000</td>\n",
       "      <td>2016</td>\n",
       "      <td>145000</td>\n",
       "      <td>Diesel</td>\n",
       "      <td>Manual</td>\n",
       "      <td>Lucknow</td>\n",
       "      <td>White</td>\n",
       "      <td>First</td>\n",
       "      <td>Individual</td>\n",
       "      <td>2393 cc</td>\n",
       "      <td>148 bhp @ 3400 rpm</td>\n",
       "      <td>343 Nm @ 1400 rpm</td>\n",
       "      <td>RWD</td>\n",
       "      <td>4735.0</td>\n",
       "      <td>1830.0</td>\n",
       "      <td>1795.0</td>\n",
       "      <td>7.0</td>\n",
       "      <td>55.0</td>\n",
       "    </tr>\n",
       "    <tr>\n",
       "      <th>802</th>\n",
       "      <td>Hyundai</td>\n",
       "      <td>Creta SX 1.6 CRDI</td>\n",
       "      <td>869999</td>\n",
       "      <td>2017</td>\n",
       "      <td>70000</td>\n",
       "      <td>Diesel</td>\n",
       "      <td>Manual</td>\n",
       "      <td>Kanpur</td>\n",
       "      <td>White</td>\n",
       "      <td>First</td>\n",
       "      <td>Individual</td>\n",
       "      <td>1582 cc</td>\n",
       "      <td>126 bhp @ 4000 rpm</td>\n",
       "      <td>265 Nm @ 1900 rpm</td>\n",
       "      <td>FWD</td>\n",
       "      <td>4270.0</td>\n",
       "      <td>1780.0</td>\n",
       "      <td>1630.0</td>\n",
       "      <td>5.0</td>\n",
       "      <td>60.0</td>\n",
       "    </tr>\n",
       "    <tr>\n",
       "      <th>1796</th>\n",
       "      <td>Mahindra</td>\n",
       "      <td>Quanto C4</td>\n",
       "      <td>249000</td>\n",
       "      <td>2013</td>\n",
       "      <td>60000</td>\n",
       "      <td>Diesel</td>\n",
       "      <td>Manual</td>\n",
       "      <td>Kolkata</td>\n",
       "      <td>Red</td>\n",
       "      <td>First</td>\n",
       "      <td>Individual</td>\n",
       "      <td>1493 cc</td>\n",
       "      <td>100 bhp @ 3750 rpm</td>\n",
       "      <td>240 Nm @ 1600 rpm</td>\n",
       "      <td>RWD</td>\n",
       "      <td>3985.0</td>\n",
       "      <td>1850.0</td>\n",
       "      <td>1880.0</td>\n",
       "      <td>7.0</td>\n",
       "      <td>55.0</td>\n",
       "    </tr>\n",
       "  </tbody>\n",
       "</table>\n",
       "</div>"
      ],
      "text/plain": [
       "               Make                            Model    Price  Year  \\\n",
       "1255        Hyundai             i10 Magna 1.2 Kappa2   250000  2012   \n",
       "359   Maruti Suzuki                  Swift DZire LXi   295000  2010   \n",
       "1360         Toyota  Innova 2.4 ZX 7 STR [2016-2020]  1725000  2016   \n",
       "802         Hyundai                Creta SX 1.6 CRDI   869999  2017   \n",
       "1796       Mahindra                        Quanto C4   249000  2013   \n",
       "\n",
       "      Kilometer Fuel Type Transmission Location  Color  Owner Seller Type  \\\n",
       "1255      54556    Petrol       Manual  Lucknow  White  First  Individual   \n",
       "359       33000    Petrol       Manual   Mumbai   Grey  First  Individual   \n",
       "1360     145000    Diesel       Manual  Lucknow  White  First  Individual   \n",
       "802       70000    Diesel       Manual   Kanpur  White  First  Individual   \n",
       "1796      60000    Diesel       Manual  Kolkata    Red  First  Individual   \n",
       "\n",
       "       Engine           Max Power              Max Torque Drivetrain  Length  \\\n",
       "1255  1197 cc   79 bhp @ 6000 rpm  112.7619 Nm @ 4000 rpm        FWD  3585.0   \n",
       "359   1298 cc             87@6000                113@4500        FWD  4160.0   \n",
       "1360  2393 cc  148 bhp @ 3400 rpm       343 Nm @ 1400 rpm        RWD  4735.0   \n",
       "802   1582 cc  126 bhp @ 4000 rpm       265 Nm @ 1900 rpm        FWD  4270.0   \n",
       "1796  1493 cc  100 bhp @ 3750 rpm       240 Nm @ 1600 rpm        RWD  3985.0   \n",
       "\n",
       "       Width  Height  Seating Capacity  Fuel Tank Capacity  \n",
       "1255  1595.0  1550.0               5.0                35.0  \n",
       "359   1690.0  1530.0               5.0                43.0  \n",
       "1360  1830.0  1795.0               7.0                55.0  \n",
       "802   1780.0  1630.0               5.0                60.0  \n",
       "1796  1850.0  1880.0               7.0                55.0  "
      ]
     },
     "execution_count": 472,
     "metadata": {},
     "output_type": "execute_result"
    }
   ],
   "source": [
    "df.sample(5)"
   ]
  },
  {
   "cell_type": "code",
   "execution_count": 473,
   "metadata": {},
   "outputs": [
    {
     "data": {
      "text/plain": [
       "1050"
      ]
     },
     "execution_count": 473,
     "metadata": {},
     "output_type": "execute_result"
    }
   ],
   "source": [
    "df['Model'].nunique()"
   ]
  },
  {
   "cell_type": "code",
   "execution_count": 474,
   "metadata": {},
   "outputs": [
    {
     "name": "stdout",
     "output_type": "stream",
     "text": [
      "<class 'pandas.core.frame.DataFrame'>\n",
      "RangeIndex: 2059 entries, 0 to 2058\n",
      "Data columns (total 20 columns):\n",
      " #   Column              Non-Null Count  Dtype  \n",
      "---  ------              --------------  -----  \n",
      " 0   Make                2059 non-null   object \n",
      " 1   Model               2059 non-null   object \n",
      " 2   Price               2059 non-null   int64  \n",
      " 3   Year                2059 non-null   int64  \n",
      " 4   Kilometer           2059 non-null   int64  \n",
      " 5   Fuel Type           2059 non-null   object \n",
      " 6   Transmission        2059 non-null   object \n",
      " 7   Location            2059 non-null   object \n",
      " 8   Color               2059 non-null   object \n",
      " 9   Owner               2059 non-null   object \n",
      " 10  Seller Type         2059 non-null   object \n",
      " 11  Engine              1979 non-null   object \n",
      " 12  Max Power           1979 non-null   object \n",
      " 13  Max Torque          1979 non-null   object \n",
      " 14  Drivetrain          1923 non-null   object \n",
      " 15  Length              1995 non-null   float64\n",
      " 16  Width               1995 non-null   float64\n",
      " 17  Height              1995 non-null   float64\n",
      " 18  Seating Capacity    1995 non-null   float64\n",
      " 19  Fuel Tank Capacity  1946 non-null   float64\n",
      "dtypes: float64(5), int64(3), object(12)\n",
      "memory usage: 321.8+ KB\n"
     ]
    }
   ],
   "source": [
    "df.info()"
   ]
  },
  {
   "cell_type": "code",
   "execution_count": 475,
   "metadata": {},
   "outputs": [
    {
     "data": {
      "text/html": [
       "<div>\n",
       "<style scoped>\n",
       "    .dataframe tbody tr th:only-of-type {\n",
       "        vertical-align: middle;\n",
       "    }\n",
       "\n",
       "    .dataframe tbody tr th {\n",
       "        vertical-align: top;\n",
       "    }\n",
       "\n",
       "    .dataframe thead th {\n",
       "        text-align: right;\n",
       "    }\n",
       "</style>\n",
       "<table border=\"1\" class=\"dataframe\">\n",
       "  <thead>\n",
       "    <tr style=\"text-align: right;\">\n",
       "      <th></th>\n",
       "      <th>Price</th>\n",
       "      <th>Year</th>\n",
       "      <th>Kilometer</th>\n",
       "      <th>Length</th>\n",
       "      <th>Width</th>\n",
       "      <th>Height</th>\n",
       "      <th>Seating Capacity</th>\n",
       "      <th>Fuel Tank Capacity</th>\n",
       "    </tr>\n",
       "  </thead>\n",
       "  <tbody>\n",
       "    <tr>\n",
       "      <th>count</th>\n",
       "      <td>2.059000e+03</td>\n",
       "      <td>2059.000000</td>\n",
       "      <td>2.059000e+03</td>\n",
       "      <td>1995.000000</td>\n",
       "      <td>1995.000000</td>\n",
       "      <td>1995.000000</td>\n",
       "      <td>1995.000000</td>\n",
       "      <td>1946.000000</td>\n",
       "    </tr>\n",
       "    <tr>\n",
       "      <th>mean</th>\n",
       "      <td>1.702992e+06</td>\n",
       "      <td>2016.425449</td>\n",
       "      <td>5.422471e+04</td>\n",
       "      <td>4280.860652</td>\n",
       "      <td>1767.991980</td>\n",
       "      <td>1591.735338</td>\n",
       "      <td>5.306266</td>\n",
       "      <td>52.002210</td>\n",
       "    </tr>\n",
       "    <tr>\n",
       "      <th>std</th>\n",
       "      <td>2.419881e+06</td>\n",
       "      <td>3.363564</td>\n",
       "      <td>5.736172e+04</td>\n",
       "      <td>442.458507</td>\n",
       "      <td>135.265825</td>\n",
       "      <td>136.073956</td>\n",
       "      <td>0.822170</td>\n",
       "      <td>15.110198</td>\n",
       "    </tr>\n",
       "    <tr>\n",
       "      <th>min</th>\n",
       "      <td>4.900000e+04</td>\n",
       "      <td>1988.000000</td>\n",
       "      <td>0.000000e+00</td>\n",
       "      <td>3099.000000</td>\n",
       "      <td>1475.000000</td>\n",
       "      <td>1165.000000</td>\n",
       "      <td>2.000000</td>\n",
       "      <td>15.000000</td>\n",
       "    </tr>\n",
       "    <tr>\n",
       "      <th>25%</th>\n",
       "      <td>4.849990e+05</td>\n",
       "      <td>2014.000000</td>\n",
       "      <td>2.900000e+04</td>\n",
       "      <td>3985.000000</td>\n",
       "      <td>1695.000000</td>\n",
       "      <td>1485.000000</td>\n",
       "      <td>5.000000</td>\n",
       "      <td>41.250000</td>\n",
       "    </tr>\n",
       "    <tr>\n",
       "      <th>50%</th>\n",
       "      <td>8.250000e+05</td>\n",
       "      <td>2017.000000</td>\n",
       "      <td>5.000000e+04</td>\n",
       "      <td>4370.000000</td>\n",
       "      <td>1770.000000</td>\n",
       "      <td>1545.000000</td>\n",
       "      <td>5.000000</td>\n",
       "      <td>50.000000</td>\n",
       "    </tr>\n",
       "    <tr>\n",
       "      <th>75%</th>\n",
       "      <td>1.925000e+06</td>\n",
       "      <td>2019.000000</td>\n",
       "      <td>7.200000e+04</td>\n",
       "      <td>4629.000000</td>\n",
       "      <td>1831.500000</td>\n",
       "      <td>1675.000000</td>\n",
       "      <td>5.000000</td>\n",
       "      <td>60.000000</td>\n",
       "    </tr>\n",
       "    <tr>\n",
       "      <th>max</th>\n",
       "      <td>3.500000e+07</td>\n",
       "      <td>2022.000000</td>\n",
       "      <td>2.000000e+06</td>\n",
       "      <td>5569.000000</td>\n",
       "      <td>2220.000000</td>\n",
       "      <td>1995.000000</td>\n",
       "      <td>8.000000</td>\n",
       "      <td>105.000000</td>\n",
       "    </tr>\n",
       "  </tbody>\n",
       "</table>\n",
       "</div>"
      ],
      "text/plain": [
       "              Price         Year     Kilometer       Length        Width  \\\n",
       "count  2.059000e+03  2059.000000  2.059000e+03  1995.000000  1995.000000   \n",
       "mean   1.702992e+06  2016.425449  5.422471e+04  4280.860652  1767.991980   \n",
       "std    2.419881e+06     3.363564  5.736172e+04   442.458507   135.265825   \n",
       "min    4.900000e+04  1988.000000  0.000000e+00  3099.000000  1475.000000   \n",
       "25%    4.849990e+05  2014.000000  2.900000e+04  3985.000000  1695.000000   \n",
       "50%    8.250000e+05  2017.000000  5.000000e+04  4370.000000  1770.000000   \n",
       "75%    1.925000e+06  2019.000000  7.200000e+04  4629.000000  1831.500000   \n",
       "max    3.500000e+07  2022.000000  2.000000e+06  5569.000000  2220.000000   \n",
       "\n",
       "            Height  Seating Capacity  Fuel Tank Capacity  \n",
       "count  1995.000000       1995.000000         1946.000000  \n",
       "mean   1591.735338          5.306266           52.002210  \n",
       "std     136.073956          0.822170           15.110198  \n",
       "min    1165.000000          2.000000           15.000000  \n",
       "25%    1485.000000          5.000000           41.250000  \n",
       "50%    1545.000000          5.000000           50.000000  \n",
       "75%    1675.000000          5.000000           60.000000  \n",
       "max    1995.000000          8.000000          105.000000  "
      ]
     },
     "execution_count": 475,
     "metadata": {},
     "output_type": "execute_result"
    }
   ],
   "source": [
    "df.describe()"
   ]
  },
  {
   "cell_type": "code",
   "execution_count": 476,
   "metadata": {},
   "outputs": [
    {
     "data": {
      "text/plain": [
       "Index(['Make', 'Model', 'Price', 'Year', 'Kilometer', 'Fuel Type',\n",
       "       'Transmission', 'Location', 'Color', 'Owner', 'Seller Type', 'Engine',\n",
       "       'Max Power', 'Max Torque', 'Drivetrain', 'Length', 'Width', 'Height',\n",
       "       'Seating Capacity', 'Fuel Tank Capacity'],\n",
       "      dtype='object')"
      ]
     },
     "execution_count": 476,
     "metadata": {},
     "output_type": "execute_result"
    }
   ],
   "source": [
    "df.columns"
   ]
  },
  {
   "cell_type": "code",
   "execution_count": 477,
   "metadata": {},
   "outputs": [
    {
     "data": {
      "text/plain": [
       "(2059, 20)"
      ]
     },
     "execution_count": 477,
     "metadata": {},
     "output_type": "execute_result"
    }
   ],
   "source": [
    "df.shape"
   ]
  },
  {
   "cell_type": "code",
   "execution_count": 478,
   "metadata": {},
   "outputs": [
    {
     "data": {
      "text/html": [
       "<div>\n",
       "<style scoped>\n",
       "    .dataframe tbody tr th:only-of-type {\n",
       "        vertical-align: middle;\n",
       "    }\n",
       "\n",
       "    .dataframe tbody tr th {\n",
       "        vertical-align: top;\n",
       "    }\n",
       "\n",
       "    .dataframe thead th {\n",
       "        text-align: right;\n",
       "    }\n",
       "</style>\n",
       "<table border=\"1\" class=\"dataframe\">\n",
       "  <thead>\n",
       "    <tr style=\"text-align: right;\">\n",
       "      <th></th>\n",
       "      <th>Price</th>\n",
       "      <th>Year</th>\n",
       "      <th>Kilometer</th>\n",
       "      <th>Length</th>\n",
       "      <th>Width</th>\n",
       "      <th>Height</th>\n",
       "      <th>Seating Capacity</th>\n",
       "      <th>Fuel Tank Capacity</th>\n",
       "    </tr>\n",
       "  </thead>\n",
       "  <tbody>\n",
       "    <tr>\n",
       "      <th>Price</th>\n",
       "      <td>1.000000</td>\n",
       "      <td>0.311400</td>\n",
       "      <td>-0.150825</td>\n",
       "      <td>0.556741</td>\n",
       "      <td>0.563996</td>\n",
       "      <td>0.075080</td>\n",
       "      <td>-0.038524</td>\n",
       "      <td>0.584631</td>\n",
       "    </tr>\n",
       "    <tr>\n",
       "      <th>Year</th>\n",
       "      <td>0.311400</td>\n",
       "      <td>1.000000</td>\n",
       "      <td>-0.296547</td>\n",
       "      <td>0.098770</td>\n",
       "      <td>0.195493</td>\n",
       "      <td>0.116102</td>\n",
       "      <td>-0.006366</td>\n",
       "      <td>0.064512</td>\n",
       "    </tr>\n",
       "    <tr>\n",
       "      <th>Kilometer</th>\n",
       "      <td>-0.150825</td>\n",
       "      <td>-0.296547</td>\n",
       "      <td>1.000000</td>\n",
       "      <td>0.047705</td>\n",
       "      <td>0.017462</td>\n",
       "      <td>0.093592</td>\n",
       "      <td>0.125244</td>\n",
       "      <td>0.055975</td>\n",
       "    </tr>\n",
       "    <tr>\n",
       "      <th>Length</th>\n",
       "      <td>0.556741</td>\n",
       "      <td>0.098770</td>\n",
       "      <td>0.047705</td>\n",
       "      <td>1.000000</td>\n",
       "      <td>0.807054</td>\n",
       "      <td>0.185451</td>\n",
       "      <td>0.295149</td>\n",
       "      <td>0.813010</td>\n",
       "    </tr>\n",
       "    <tr>\n",
       "      <th>Width</th>\n",
       "      <td>0.563996</td>\n",
       "      <td>0.195493</td>\n",
       "      <td>0.017462</td>\n",
       "      <td>0.807054</td>\n",
       "      <td>1.000000</td>\n",
       "      <td>0.296702</td>\n",
       "      <td>0.221689</td>\n",
       "      <td>0.793868</td>\n",
       "    </tr>\n",
       "    <tr>\n",
       "      <th>Height</th>\n",
       "      <td>0.075080</td>\n",
       "      <td>0.116102</td>\n",
       "      <td>0.093592</td>\n",
       "      <td>0.185451</td>\n",
       "      <td>0.296702</td>\n",
       "      <td>1.000000</td>\n",
       "      <td>0.695761</td>\n",
       "      <td>0.400884</td>\n",
       "    </tr>\n",
       "    <tr>\n",
       "      <th>Seating Capacity</th>\n",
       "      <td>-0.038524</td>\n",
       "      <td>-0.006366</td>\n",
       "      <td>0.125244</td>\n",
       "      <td>0.295149</td>\n",
       "      <td>0.221689</td>\n",
       "      <td>0.695761</td>\n",
       "      <td>1.000000</td>\n",
       "      <td>0.318043</td>\n",
       "    </tr>\n",
       "    <tr>\n",
       "      <th>Fuel Tank Capacity</th>\n",
       "      <td>0.584631</td>\n",
       "      <td>0.064512</td>\n",
       "      <td>0.055975</td>\n",
       "      <td>0.813010</td>\n",
       "      <td>0.793868</td>\n",
       "      <td>0.400884</td>\n",
       "      <td>0.318043</td>\n",
       "      <td>1.000000</td>\n",
       "    </tr>\n",
       "  </tbody>\n",
       "</table>\n",
       "</div>"
      ],
      "text/plain": [
       "                       Price      Year  Kilometer    Length     Width  \\\n",
       "Price               1.000000  0.311400  -0.150825  0.556741  0.563996   \n",
       "Year                0.311400  1.000000  -0.296547  0.098770  0.195493   \n",
       "Kilometer          -0.150825 -0.296547   1.000000  0.047705  0.017462   \n",
       "Length              0.556741  0.098770   0.047705  1.000000  0.807054   \n",
       "Width               0.563996  0.195493   0.017462  0.807054  1.000000   \n",
       "Height              0.075080  0.116102   0.093592  0.185451  0.296702   \n",
       "Seating Capacity   -0.038524 -0.006366   0.125244  0.295149  0.221689   \n",
       "Fuel Tank Capacity  0.584631  0.064512   0.055975  0.813010  0.793868   \n",
       "\n",
       "                      Height  Seating Capacity  Fuel Tank Capacity  \n",
       "Price               0.075080         -0.038524            0.584631  \n",
       "Year                0.116102         -0.006366            0.064512  \n",
       "Kilometer           0.093592          0.125244            0.055975  \n",
       "Length              0.185451          0.295149            0.813010  \n",
       "Width               0.296702          0.221689            0.793868  \n",
       "Height              1.000000          0.695761            0.400884  \n",
       "Seating Capacity    0.695761          1.000000            0.318043  \n",
       "Fuel Tank Capacity  0.400884          0.318043            1.000000  "
      ]
     },
     "execution_count": 478,
     "metadata": {},
     "output_type": "execute_result"
    }
   ],
   "source": [
    "df[['Price','Year','Kilometer','Length','Width','Height','Seating Capacity','Fuel Tank Capacity']].corr()"
   ]
  },
  {
   "cell_type": "code",
   "execution_count": 479,
   "metadata": {},
   "outputs": [
    {
     "data": {
      "text/plain": [
       "Make                    0\n",
       "Model                   0\n",
       "Price                   0\n",
       "Year                    0\n",
       "Kilometer               0\n",
       "Fuel Type               0\n",
       "Transmission            0\n",
       "Location                0\n",
       "Color                   0\n",
       "Owner                   0\n",
       "Seller Type             0\n",
       "Engine                 80\n",
       "Max Power              80\n",
       "Max Torque             80\n",
       "Drivetrain            136\n",
       "Length                 64\n",
       "Width                  64\n",
       "Height                 64\n",
       "Seating Capacity       64\n",
       "Fuel Tank Capacity    113\n",
       "dtype: int64"
      ]
     },
     "execution_count": 479,
     "metadata": {},
     "output_type": "execute_result"
    }
   ],
   "source": [
    "df.isna().sum()"
   ]
  },
  {
   "cell_type": "markdown",
   "metadata": {},
   "source": [
    "## Data Preprocessing"
   ]
  },
  {
   "cell_type": "markdown",
   "metadata": {},
   "source": [
    "### Engine"
   ]
  },
  {
   "cell_type": "code",
   "execution_count": 480,
   "metadata": {},
   "outputs": [
    {
     "name": "stdout",
     "output_type": "stream",
     "text": [
      "0\n"
     ]
    }
   ],
   "source": [
    "df['Engine'] = df['Engine'].apply(lambda x: float(str(x).split()[0]))\n",
    "engine_mean = df['Engine'].mean()\n",
    "df['Engine'] = df['Engine'].fillna(engine_mean)\n",
    "print(df['Engine'].isna().sum())"
   ]
  },
  {
   "cell_type": "markdown",
   "metadata": {},
   "source": [
    "### Drivetrain"
   ]
  },
  {
   "cell_type": "code",
   "execution_count": 481,
   "metadata": {},
   "outputs": [
    {
     "name": "stdout",
     "output_type": "stream",
     "text": [
      "FWD\n",
      "0\n"
     ]
    }
   ],
   "source": [
    "df['Drivetrain'] = df['Drivetrain'].apply(lambda x: 'FWD' if isinstance(x,pd.Series) else str(x))\n",
    "drivetrain_mode =  df['Drivetrain'].mode().iloc[0]\n",
    "print(drivetrain_mode)\n",
    "df['Drivetrain'] = df['Drivetrain'].apply(lambda x: drivetrain_mode if x=='nan' else x)\n",
    "print(df['Drivetrain'].isna().sum())"
   ]
  },
  {
   "cell_type": "code",
   "execution_count": 482,
   "metadata": {},
   "outputs": [],
   "source": [
    "# length_mean = df['Length'].mean()\n",
    "# df['Length'] = df['Length'].fillna(length_mean)"
   ]
  },
  {
   "cell_type": "code",
   "execution_count": 483,
   "metadata": {},
   "outputs": [],
   "source": [
    "# fuel_tank_mean = df['Fuel Tank Capacity'].mean()\n",
    "# df['Fuel Tank Capacity'] = df['Fuel Tank Capacity'].fillna(round(fuel_tank_mean))"
   ]
  },
  {
   "cell_type": "code",
   "execution_count": 484,
   "metadata": {},
   "outputs": [],
   "source": [
    "# seating_capacity_mean = df['Seating Capacity'].mean()\n",
    "# df['Seating Capacity'] = df['Seating Capacity'].fillna(round(seating_capacity_mean))"
   ]
  },
  {
   "cell_type": "markdown",
   "metadata": {},
   "source": [
    "### Removing outliers"
   ]
  },
  {
   "cell_type": "code",
   "execution_count": 485,
   "metadata": {},
   "outputs": [],
   "source": [
    "def remove_outliers(df,cols):\n",
    "  df_cleaned = df.copy()\n",
    "  for col in cols:\n",
    "    q1 = df_cleaned[col].quantile(0.25)\n",
    "    q3 = df_cleaned[col].quantile(0.75)\n",
    "    iqr = q3-q1\n",
    "    low = q1 - 1.5*iqr\n",
    "    high = q3 + 1.5*iqr\n",
    "    df_cleaned = df_cleaned[(df_cleaned[col]>=low) & (df_cleaned[col]<=high)]\n",
    "  return df_cleaned\n"
   ]
  },
  {
   "cell_type": "code",
   "execution_count": 486,
   "metadata": {},
   "outputs": [],
   "source": [
    "cleaned_df = remove_outliers(df,['Kilometer','Price','Engine'])"
   ]
  },
  {
   "cell_type": "code",
   "execution_count": 487,
   "metadata": {},
   "outputs": [
    {
     "data": {
      "text/html": [
       "<div>\n",
       "<style scoped>\n",
       "    .dataframe tbody tr th:only-of-type {\n",
       "        vertical-align: middle;\n",
       "    }\n",
       "\n",
       "    .dataframe tbody tr th {\n",
       "        vertical-align: top;\n",
       "    }\n",
       "\n",
       "    .dataframe thead th {\n",
       "        text-align: right;\n",
       "    }\n",
       "</style>\n",
       "<table border=\"1\" class=\"dataframe\">\n",
       "  <thead>\n",
       "    <tr style=\"text-align: right;\">\n",
       "      <th></th>\n",
       "      <th>Price</th>\n",
       "      <th>Year</th>\n",
       "      <th>Kilometer</th>\n",
       "      <th>Engine</th>\n",
       "      <th>Length</th>\n",
       "      <th>Width</th>\n",
       "      <th>Height</th>\n",
       "      <th>Seating Capacity</th>\n",
       "      <th>Fuel Tank Capacity</th>\n",
       "    </tr>\n",
       "  </thead>\n",
       "  <tbody>\n",
       "    <tr>\n",
       "      <th>count</th>\n",
       "      <td>1.804000e+03</td>\n",
       "      <td>1804.000000</td>\n",
       "      <td>1804.000000</td>\n",
       "      <td>1804.000000</td>\n",
       "      <td>1746.000000</td>\n",
       "      <td>1746.000000</td>\n",
       "      <td>1746.000000</td>\n",
       "      <td>1746.000000</td>\n",
       "      <td>1710.000000</td>\n",
       "    </tr>\n",
       "    <tr>\n",
       "      <th>mean</th>\n",
       "      <td>1.088519e+06</td>\n",
       "      <td>2016.196231</td>\n",
       "      <td>53075.499446</td>\n",
       "      <td>1577.679928</td>\n",
       "      <td>4204.474800</td>\n",
       "      <td>1744.827606</td>\n",
       "      <td>1587.091065</td>\n",
       "      <td>5.298969</td>\n",
       "      <td>49.203216</td>\n",
       "    </tr>\n",
       "    <tr>\n",
       "      <th>std</th>\n",
       "      <td>9.084269e+05</td>\n",
       "      <td>3.323936</td>\n",
       "      <td>27855.969612</td>\n",
       "      <td>500.236938</td>\n",
       "      <td>407.853145</td>\n",
       "      <td>120.645202</td>\n",
       "      <td>131.224732</td>\n",
       "      <td>0.782304</td>\n",
       "      <td>13.021264</td>\n",
       "    </tr>\n",
       "    <tr>\n",
       "      <th>min</th>\n",
       "      <td>4.900000e+04</td>\n",
       "      <td>1988.000000</td>\n",
       "      <td>1.000000</td>\n",
       "      <td>624.000000</td>\n",
       "      <td>3099.000000</td>\n",
       "      <td>1475.000000</td>\n",
       "      <td>1297.000000</td>\n",
       "      <td>2.000000</td>\n",
       "      <td>15.000000</td>\n",
       "    </tr>\n",
       "    <tr>\n",
       "      <th>25%</th>\n",
       "      <td>4.500000e+05</td>\n",
       "      <td>2014.000000</td>\n",
       "      <td>32000.000000</td>\n",
       "      <td>1197.000000</td>\n",
       "      <td>3970.000000</td>\n",
       "      <td>1695.000000</td>\n",
       "      <td>1485.000000</td>\n",
       "      <td>5.000000</td>\n",
       "      <td>40.000000</td>\n",
       "    </tr>\n",
       "    <tr>\n",
       "      <th>50%</th>\n",
       "      <td>7.275000e+05</td>\n",
       "      <td>2017.000000</td>\n",
       "      <td>51817.000000</td>\n",
       "      <td>1497.000000</td>\n",
       "      <td>4270.000000</td>\n",
       "      <td>1745.000000</td>\n",
       "      <td>1544.000000</td>\n",
       "      <td>5.000000</td>\n",
       "      <td>45.000000</td>\n",
       "    </tr>\n",
       "    <tr>\n",
       "      <th>75%</th>\n",
       "      <td>1.475000e+06</td>\n",
       "      <td>2019.000000</td>\n",
       "      <td>72000.000000</td>\n",
       "      <td>1968.000000</td>\n",
       "      <td>4490.000000</td>\n",
       "      <td>1820.000000</td>\n",
       "      <td>1665.000000</td>\n",
       "      <td>5.000000</td>\n",
       "      <td>59.500000</td>\n",
       "    </tr>\n",
       "    <tr>\n",
       "      <th>max</th>\n",
       "      <td>4.151000e+06</td>\n",
       "      <td>2022.000000</td>\n",
       "      <td>135797.000000</td>\n",
       "      <td>2999.000000</td>\n",
       "      <td>5252.000000</td>\n",
       "      <td>2141.000000</td>\n",
       "      <td>1995.000000</td>\n",
       "      <td>8.000000</td>\n",
       "      <td>100.000000</td>\n",
       "    </tr>\n",
       "  </tbody>\n",
       "</table>\n",
       "</div>"
      ],
      "text/plain": [
       "              Price         Year      Kilometer       Engine       Length  \\\n",
       "count  1.804000e+03  1804.000000    1804.000000  1804.000000  1746.000000   \n",
       "mean   1.088519e+06  2016.196231   53075.499446  1577.679928  4204.474800   \n",
       "std    9.084269e+05     3.323936   27855.969612   500.236938   407.853145   \n",
       "min    4.900000e+04  1988.000000       1.000000   624.000000  3099.000000   \n",
       "25%    4.500000e+05  2014.000000   32000.000000  1197.000000  3970.000000   \n",
       "50%    7.275000e+05  2017.000000   51817.000000  1497.000000  4270.000000   \n",
       "75%    1.475000e+06  2019.000000   72000.000000  1968.000000  4490.000000   \n",
       "max    4.151000e+06  2022.000000  135797.000000  2999.000000  5252.000000   \n",
       "\n",
       "             Width       Height  Seating Capacity  Fuel Tank Capacity  \n",
       "count  1746.000000  1746.000000       1746.000000         1710.000000  \n",
       "mean   1744.827606  1587.091065          5.298969           49.203216  \n",
       "std     120.645202   131.224732          0.782304           13.021264  \n",
       "min    1475.000000  1297.000000          2.000000           15.000000  \n",
       "25%    1695.000000  1485.000000          5.000000           40.000000  \n",
       "50%    1745.000000  1544.000000          5.000000           45.000000  \n",
       "75%    1820.000000  1665.000000          5.000000           59.500000  \n",
       "max    2141.000000  1995.000000          8.000000          100.000000  "
      ]
     },
     "execution_count": 487,
     "metadata": {},
     "output_type": "execute_result"
    }
   ],
   "source": [
    "cleaned_df.describe()"
   ]
  },
  {
   "cell_type": "markdown",
   "metadata": {},
   "source": [
    "### Displaying unique values"
   ]
  },
  {
   "cell_type": "code",
   "execution_count": 488,
   "metadata": {},
   "outputs": [
    {
     "name": "stdout",
     "output_type": "stream",
     "text": [
      "['Honda' 'Maruti Suzuki' 'Hyundai' 'Toyota' 'Mercedes-Benz' 'BMW' 'Skoda'\n",
      " 'Nissan' 'Renault' 'Tata' 'Volkswagen' 'Ford' 'Audi' 'Mahindra' 'MG'\n",
      " 'Jeep' 'Kia' 'Volvo' 'Isuzu' 'Jaguar' 'Land Rover' 'Fiat' 'MINI'\n",
      " 'Mitsubishi' 'Datsun' 'Chevrolet' 'Ssangyong' 'Lexus' 'Porsche'] \n",
      "\n",
      "Make\n",
      "Maruti Suzuki    436\n",
      "Hyundai          345\n",
      "Honda            157\n",
      "Toyota           119\n",
      "Mahindra         113\n",
      "Audi             103\n",
      "Mercedes-Benz     86\n",
      "BMW               72\n",
      "Tata              55\n",
      "Volkswagen        50\n",
      "Renault           42\n",
      "Skoda             40\n",
      "Ford              40\n",
      "Kia               23\n",
      "Jeep              17\n",
      "MG                17\n",
      "Nissan            16\n",
      "Jaguar            12\n",
      "Volvo             11\n",
      "Land Rover        11\n",
      "MINI              10\n",
      "Datsun             8\n",
      "Chevrolet          7\n",
      "Mitsubishi         4\n",
      "Ssangyong          3\n",
      "Isuzu              2\n",
      "Fiat               2\n",
      "Lexus              2\n",
      "Porsche            1\n",
      "Name: count, dtype: int64 \n",
      "\n",
      "['Petrol' 'Diesel' 'CNG' 'LPG' 'Electric' 'CNG + CNG' 'Petrol + CNG'\n",
      " 'Petrol + LPG'] \n",
      "\n",
      "Fuel Type\n",
      "Petrol          871\n",
      "Diesel          868\n",
      "CNG              50\n",
      "Electric          7\n",
      "LPG               5\n",
      "CNG + CNG         1\n",
      "Petrol + CNG      1\n",
      "Petrol + LPG      1\n",
      "Name: count, dtype: int64 \n",
      "\n",
      "['Manual' 'Automatic'] \n",
      "\n",
      "Transmission\n",
      "Manual       1108\n",
      "Automatic     696\n",
      "Name: count, dtype: int64 \n",
      "\n",
      "['First' 'Second' 'Third' 'Fourth' 'UnRegistered Car' '4 or More'] \n",
      "\n",
      "Owner\n",
      "First               1420\n",
      "Second               340\n",
      "Third                 32\n",
      "UnRegistered Car       8\n",
      "Fourth                 3\n",
      "4 or More              1\n",
      "Name: count, dtype: int64 \n",
      "\n",
      "['FWD' 'RWD' 'AWD'] \n",
      "\n",
      "Drivetrain\n",
      "FWD    1425\n",
      "RWD     232\n",
      "AWD     147\n",
      "Name: count, dtype: int64 \n",
      "\n"
     ]
    }
   ],
   "source": [
    "arr = ['Make','Fuel Type','Transmission','Owner','Drivetrain']\n",
    "for i in arr:\n",
    "  print(cleaned_df[i].unique(),'\\n')\n",
    "  print(cleaned_df[i].value_counts(),'\\n')"
   ]
  },
  {
   "cell_type": "markdown",
   "metadata": {},
   "source": [
    "### Saving processed dataframe in csv file"
   ]
  },
  {
   "cell_type": "code",
   "execution_count": 489,
   "metadata": {},
   "outputs": [],
   "source": [
    "final_df =  cleaned_df[['Make','Model','Year', 'Kilometer', 'Fuel Type',\n",
    "       'Transmission', 'Location', 'Color', 'Owner','Engine','Drivetrain','Price']]"
   ]
  },
  {
   "cell_type": "code",
   "execution_count": 490,
   "metadata": {},
   "outputs": [
    {
     "data": {
      "text/html": [
       "<div>\n",
       "<style scoped>\n",
       "    .dataframe tbody tr th:only-of-type {\n",
       "        vertical-align: middle;\n",
       "    }\n",
       "\n",
       "    .dataframe tbody tr th {\n",
       "        vertical-align: top;\n",
       "    }\n",
       "\n",
       "    .dataframe thead th {\n",
       "        text-align: right;\n",
       "    }\n",
       "</style>\n",
       "<table border=\"1\" class=\"dataframe\">\n",
       "  <thead>\n",
       "    <tr style=\"text-align: right;\">\n",
       "      <th></th>\n",
       "      <th>Make</th>\n",
       "      <th>Model</th>\n",
       "      <th>Year</th>\n",
       "      <th>Kilometer</th>\n",
       "      <th>Fuel Type</th>\n",
       "      <th>Transmission</th>\n",
       "      <th>Location</th>\n",
       "      <th>Color</th>\n",
       "      <th>Owner</th>\n",
       "      <th>Engine</th>\n",
       "      <th>Drivetrain</th>\n",
       "      <th>Price</th>\n",
       "    </tr>\n",
       "  </thead>\n",
       "  <tbody>\n",
       "    <tr>\n",
       "      <th>820</th>\n",
       "      <td>Maruti Suzuki</td>\n",
       "      <td>Ertiga Vxi CNG</td>\n",
       "      <td>2014</td>\n",
       "      <td>53693</td>\n",
       "      <td>CNG</td>\n",
       "      <td>Manual</td>\n",
       "      <td>Mumbai</td>\n",
       "      <td>Others</td>\n",
       "      <td>First</td>\n",
       "      <td>1373.0</td>\n",
       "      <td>FWD</td>\n",
       "      <td>642000</td>\n",
       "    </tr>\n",
       "    <tr>\n",
       "      <th>1788</th>\n",
       "      <td>Maruti Suzuki</td>\n",
       "      <td>Ertiga ZDi</td>\n",
       "      <td>2013</td>\n",
       "      <td>72000</td>\n",
       "      <td>Diesel</td>\n",
       "      <td>Manual</td>\n",
       "      <td>Mumbai</td>\n",
       "      <td>Blue</td>\n",
       "      <td>First</td>\n",
       "      <td>1248.0</td>\n",
       "      <td>FWD</td>\n",
       "      <td>621000</td>\n",
       "    </tr>\n",
       "    <tr>\n",
       "      <th>916</th>\n",
       "      <td>Ssangyong</td>\n",
       "      <td>Rexton RX6</td>\n",
       "      <td>2016</td>\n",
       "      <td>70000</td>\n",
       "      <td>Diesel</td>\n",
       "      <td>Manual</td>\n",
       "      <td>Mirzapur</td>\n",
       "      <td>Black</td>\n",
       "      <td>Second</td>\n",
       "      <td>2696.0</td>\n",
       "      <td>AWD</td>\n",
       "      <td>900000</td>\n",
       "    </tr>\n",
       "    <tr>\n",
       "      <th>508</th>\n",
       "      <td>BMW</td>\n",
       "      <td>3-Series 320d Sport Line</td>\n",
       "      <td>2014</td>\n",
       "      <td>35000</td>\n",
       "      <td>Diesel</td>\n",
       "      <td>Automatic</td>\n",
       "      <td>Kolkata</td>\n",
       "      <td>Brown</td>\n",
       "      <td>First</td>\n",
       "      <td>1995.0</td>\n",
       "      <td>RWD</td>\n",
       "      <td>1400000</td>\n",
       "    </tr>\n",
       "    <tr>\n",
       "      <th>954</th>\n",
       "      <td>Maruti Suzuki</td>\n",
       "      <td>S-Cross Sigma 1.3</td>\n",
       "      <td>2017</td>\n",
       "      <td>125372</td>\n",
       "      <td>Diesel</td>\n",
       "      <td>Manual</td>\n",
       "      <td>Coimbatore</td>\n",
       "      <td>Brown</td>\n",
       "      <td>First</td>\n",
       "      <td>1248.0</td>\n",
       "      <td>FWD</td>\n",
       "      <td>675000</td>\n",
       "    </tr>\n",
       "  </tbody>\n",
       "</table>\n",
       "</div>"
      ],
      "text/plain": [
       "               Make                     Model  Year  Kilometer Fuel Type  \\\n",
       "820   Maruti Suzuki            Ertiga Vxi CNG  2014      53693       CNG   \n",
       "1788  Maruti Suzuki                Ertiga ZDi  2013      72000    Diesel   \n",
       "916       Ssangyong                Rexton RX6  2016      70000    Diesel   \n",
       "508             BMW  3-Series 320d Sport Line  2014      35000    Diesel   \n",
       "954   Maruti Suzuki         S-Cross Sigma 1.3  2017     125372    Diesel   \n",
       "\n",
       "     Transmission    Location   Color   Owner  Engine Drivetrain    Price  \n",
       "820        Manual      Mumbai  Others   First  1373.0        FWD   642000  \n",
       "1788       Manual      Mumbai    Blue   First  1248.0        FWD   621000  \n",
       "916        Manual    Mirzapur   Black  Second  2696.0        AWD   900000  \n",
       "508     Automatic     Kolkata   Brown   First  1995.0        RWD  1400000  \n",
       "954        Manual  Coimbatore   Brown   First  1248.0        FWD   675000  "
      ]
     },
     "execution_count": 490,
     "metadata": {},
     "output_type": "execute_result"
    }
   ],
   "source": [
    "final_df.sample(5)"
   ]
  },
  {
   "cell_type": "code",
   "execution_count": 491,
   "metadata": {},
   "outputs": [
    {
     "data": {
      "text/plain": [
       "(1804, 12)"
      ]
     },
     "execution_count": 491,
     "metadata": {},
     "output_type": "execute_result"
    }
   ],
   "source": [
    "final_df.shape"
   ]
  },
  {
   "cell_type": "code",
   "execution_count": 492,
   "metadata": {},
   "outputs": [
    {
     "data": {
      "text/html": [
       "<div>\n",
       "<style scoped>\n",
       "    .dataframe tbody tr th:only-of-type {\n",
       "        vertical-align: middle;\n",
       "    }\n",
       "\n",
       "    .dataframe tbody tr th {\n",
       "        vertical-align: top;\n",
       "    }\n",
       "\n",
       "    .dataframe thead th {\n",
       "        text-align: right;\n",
       "    }\n",
       "</style>\n",
       "<table border=\"1\" class=\"dataframe\">\n",
       "  <thead>\n",
       "    <tr style=\"text-align: right;\">\n",
       "      <th></th>\n",
       "      <th>Year</th>\n",
       "      <th>Kilometer</th>\n",
       "      <th>Engine</th>\n",
       "      <th>Price</th>\n",
       "    </tr>\n",
       "  </thead>\n",
       "  <tbody>\n",
       "    <tr>\n",
       "      <th>count</th>\n",
       "      <td>1804.000000</td>\n",
       "      <td>1804.000000</td>\n",
       "      <td>1804.000000</td>\n",
       "      <td>1.804000e+03</td>\n",
       "    </tr>\n",
       "    <tr>\n",
       "      <th>mean</th>\n",
       "      <td>2016.196231</td>\n",
       "      <td>53075.499446</td>\n",
       "      <td>1577.679928</td>\n",
       "      <td>1.088519e+06</td>\n",
       "    </tr>\n",
       "    <tr>\n",
       "      <th>std</th>\n",
       "      <td>3.323936</td>\n",
       "      <td>27855.969612</td>\n",
       "      <td>500.236938</td>\n",
       "      <td>9.084269e+05</td>\n",
       "    </tr>\n",
       "    <tr>\n",
       "      <th>min</th>\n",
       "      <td>1988.000000</td>\n",
       "      <td>1.000000</td>\n",
       "      <td>624.000000</td>\n",
       "      <td>4.900000e+04</td>\n",
       "    </tr>\n",
       "    <tr>\n",
       "      <th>25%</th>\n",
       "      <td>2014.000000</td>\n",
       "      <td>32000.000000</td>\n",
       "      <td>1197.000000</td>\n",
       "      <td>4.500000e+05</td>\n",
       "    </tr>\n",
       "    <tr>\n",
       "      <th>50%</th>\n",
       "      <td>2017.000000</td>\n",
       "      <td>51817.000000</td>\n",
       "      <td>1497.000000</td>\n",
       "      <td>7.275000e+05</td>\n",
       "    </tr>\n",
       "    <tr>\n",
       "      <th>75%</th>\n",
       "      <td>2019.000000</td>\n",
       "      <td>72000.000000</td>\n",
       "      <td>1968.000000</td>\n",
       "      <td>1.475000e+06</td>\n",
       "    </tr>\n",
       "    <tr>\n",
       "      <th>max</th>\n",
       "      <td>2022.000000</td>\n",
       "      <td>135797.000000</td>\n",
       "      <td>2999.000000</td>\n",
       "      <td>4.151000e+06</td>\n",
       "    </tr>\n",
       "  </tbody>\n",
       "</table>\n",
       "</div>"
      ],
      "text/plain": [
       "              Year      Kilometer       Engine         Price\n",
       "count  1804.000000    1804.000000  1804.000000  1.804000e+03\n",
       "mean   2016.196231   53075.499446  1577.679928  1.088519e+06\n",
       "std       3.323936   27855.969612   500.236938  9.084269e+05\n",
       "min    1988.000000       1.000000   624.000000  4.900000e+04\n",
       "25%    2014.000000   32000.000000  1197.000000  4.500000e+05\n",
       "50%    2017.000000   51817.000000  1497.000000  7.275000e+05\n",
       "75%    2019.000000   72000.000000  1968.000000  1.475000e+06\n",
       "max    2022.000000  135797.000000  2999.000000  4.151000e+06"
      ]
     },
     "execution_count": 492,
     "metadata": {},
     "output_type": "execute_result"
    }
   ],
   "source": [
    "final_df.describe()"
   ]
  },
  {
   "cell_type": "code",
   "execution_count": 493,
   "metadata": {},
   "outputs": [],
   "source": [
    "# arr = ['Seating Capacity']\n",
    "# for i in arr:\n",
    "#   print(cleaned_df[i].unique(),'\\n')\n",
    "#   print(cleaned_df[i].value_counts(),'\\n')"
   ]
  },
  {
   "cell_type": "code",
   "execution_count": 494,
   "metadata": {},
   "outputs": [],
   "source": [
    "from collections import Counter\n",
    "all_dicts = {}\n",
    "arr = ['Make','Fuel Type','Owner']\n",
    "for col in arr:\n",
    "  all_dicts[col] = dict(Counter(final_df[col]))"
   ]
  },
  {
   "cell_type": "code",
   "execution_count": 495,
   "metadata": {},
   "outputs": [
    {
     "name": "stderr",
     "output_type": "stream",
     "text": [
      "C:\\Users\\Ashish Yadav\\AppData\\Local\\Temp\\ipykernel_6100\\3846618764.py:5: SettingWithCopyWarning: \n",
      "A value is trying to be set on a copy of a slice from a DataFrame.\n",
      "Try using .loc[row_indexer,col_indexer] = value instead\n",
      "\n",
      "See the caveats in the documentation: https://pandas.pydata.org/pandas-docs/stable/user_guide/indexing.html#returning-a-view-versus-a-copy\n",
      "  final_df['Make'] = final_df['Make'].apply(lambda x: None if all_dicts['Make'][x]<=12 else x)\n",
      "C:\\Users\\Ashish Yadav\\AppData\\Local\\Temp\\ipykernel_6100\\3846618764.py:6: SettingWithCopyWarning: \n",
      "A value is trying to be set on a copy of a slice from a DataFrame.\n",
      "Try using .loc[row_indexer,col_indexer] = value instead\n",
      "\n",
      "See the caveats in the documentation: https://pandas.pydata.org/pandas-docs/stable/user_guide/indexing.html#returning-a-view-versus-a-copy\n",
      "  final_df['Fuel Type'] = final_df['Fuel Type'].apply(lambda x: None if all_dicts['Fuel Type'][x]<=50 else x)\n",
      "C:\\Users\\Ashish Yadav\\AppData\\Local\\Temp\\ipykernel_6100\\3846618764.py:7: SettingWithCopyWarning: \n",
      "A value is trying to be set on a copy of a slice from a DataFrame.\n",
      "Try using .loc[row_indexer,col_indexer] = value instead\n",
      "\n",
      "See the caveats in the documentation: https://pandas.pydata.org/pandas-docs/stable/user_guide/indexing.html#returning-a-view-versus-a-copy\n",
      "  final_df['Owner'] = final_df['Owner'].apply(lambda x: None if all_dicts['Owner'][x]<=32 else x)\n"
     ]
    }
   ],
   "source": [
    "# final_df['Make'] = final_df['Make'].apply(lambda x: 'other' if all_dicts['Make'][x]<=50 else x)\n",
    "# final_df['Fuel Type'] = final_df['Fuel Type'].apply(lambda x: 'other fuel type' if all_dicts['Fuel Type'][x]<=50 else x)\n",
    "# final_df['Owner'] = final_df['Owner'].apply(lambda x: 'second +' if all_dicts['Owner'][x]<=50 else x)\n",
    "\n",
    "final_df['Make'] = final_df['Make'].apply(lambda x: None if all_dicts['Make'][x]<=12 else x)\n",
    "final_df['Fuel Type'] = final_df['Fuel Type'].apply(lambda x: None if all_dicts['Fuel Type'][x]<=50 else x)\n",
    "final_df['Owner'] = final_df['Owner'].apply(lambda x: None if all_dicts['Owner'][x]<=32 else x)"
   ]
  },
  {
   "cell_type": "code",
   "execution_count": 496,
   "metadata": {},
   "outputs": [
    {
     "name": "stdout",
     "output_type": "stream",
     "text": [
      "Make            73\n",
      "Model            0\n",
      "Year             0\n",
      "Kilometer        0\n",
      "Fuel Type       65\n",
      "Transmission     0\n",
      "Location         0\n",
      "Color            0\n",
      "Owner           44\n",
      "Engine           0\n",
      "Drivetrain       0\n",
      "Price            0\n",
      "dtype: int64\n",
      "(1804, 12)\n"
     ]
    }
   ],
   "source": [
    "print(final_df.isna().sum())\n",
    "print(final_df.shape)"
   ]
  },
  {
   "cell_type": "code",
   "execution_count": 497,
   "metadata": {},
   "outputs": [
    {
     "data": {
      "text/plain": [
       "(1624, 12)"
      ]
     },
     "execution_count": 497,
     "metadata": {},
     "output_type": "execute_result"
    }
   ],
   "source": [
    "final_df = final_df.dropna()\n",
    "final_df.shape"
   ]
  },
  {
   "cell_type": "markdown",
   "metadata": {},
   "source": [
    "### Saving processed dataframe in csv file"
   ]
  },
  {
   "cell_type": "code",
   "execution_count": 498,
   "metadata": {},
   "outputs": [],
   "source": [
    "final_df.to_csv('G:\\Ashish Yadav\\Backup Google Drive\\Documents-Lecture\\Github\\ML-Mini-Project\\data\\processed\\processed.csv',index=False)"
   ]
  },
  {
   "cell_type": "markdown",
   "metadata": {},
   "source": [
    "### Saving dataframe in pickle file"
   ]
  },
  {
   "cell_type": "code",
   "execution_count": 499,
   "metadata": {},
   "outputs": [],
   "source": [
    "with open('G:\\Ashish Yadav\\Backup Google Drive\\Documents-Lecture\\Github\\ML-Mini-Project\\config\\dataframe.pkl','wb') as file:\n",
    "    pickle.dump(final_df,file)"
   ]
  },
  {
   "cell_type": "markdown",
   "metadata": {},
   "source": [
    "### Mapping car manufacturer to respective car models"
   ]
  },
  {
   "cell_type": "code",
   "execution_count": 500,
   "metadata": {},
   "outputs": [],
   "source": [
    "d = {}\n",
    "make_model_map = zip(final_df['Make'],final_df['Model'])\n",
    "for company,model in make_model_map:\n",
    "    if company in d:\n",
    "        d[company].add(model)\n",
    "    else:\n",
    "        d[company] = set([model])"
   ]
  },
  {
   "cell_type": "markdown",
   "metadata": {},
   "source": [
    "### Saving car model mapping in pickle file"
   ]
  },
  {
   "cell_type": "code",
   "execution_count": 501,
   "metadata": {},
   "outputs": [],
   "source": [
    "with open('G:\\Ashish Yadav\\Backup Google Drive\\Documents-Lecture\\Github\\ML-Mini-Project\\config\\car_model_mapping.pkl','wb') as fd:\n",
    "    pickle.dump(d,fd)"
   ]
  }
 ],
 "metadata": {
  "kernelspec": {
   "display_name": "Python 3",
   "language": "python",
   "name": "python3"
  },
  "language_info": {
   "codemirror_mode": {
    "name": "ipython",
    "version": 3
   },
   "file_extension": ".py",
   "mimetype": "text/x-python",
   "name": "python",
   "nbconvert_exporter": "python",
   "pygments_lexer": "ipython3",
   "version": "3.11.4"
  },
  "orig_nbformat": 4
 },
 "nbformat": 4,
 "nbformat_minor": 2
}
